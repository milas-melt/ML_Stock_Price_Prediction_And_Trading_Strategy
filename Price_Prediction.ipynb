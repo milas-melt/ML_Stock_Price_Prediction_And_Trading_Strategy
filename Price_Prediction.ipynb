{
 "cells": [
  {
   "cell_type": "code",
   "execution_count": null,
   "metadata": {
    "colab": {
     "base_uri": "https://localhost:8080/"
    },
    "id": "917-cSEM7PtP",
    "outputId": "8e5578ab-62b7-43cf-82f2-a5bf6073ed2e"
   },
   "outputs": [
    {
     "name": "stdout",
     "output_type": "stream",
     "text": [
      "Looking in indexes: https://pypi.org/simple, https://us-python.pkg.dev/colab-wheels/public/simple/\n",
      "Requirement already satisfied: pandas in /usr/local/lib/python3.8/dist-packages (1.5.3)\n",
      "Requirement already satisfied: python-dateutil>=2.8.1 in /usr/local/lib/python3.8/dist-packages (from pandas) (2.8.2)\n",
      "Requirement already satisfied: numpy>=1.20.3 in /usr/local/lib/python3.8/dist-packages (from pandas) (1.22.4)\n",
      "Requirement already satisfied: pytz>=2020.1 in /usr/local/lib/python3.8/dist-packages (from pandas) (2022.7.1)\n",
      "Requirement already satisfied: six>=1.5 in /usr/local/lib/python3.8/dist-packages (from python-dateutil>=2.8.1->pandas) (1.15.0)\n",
      "Looking in indexes: https://pypi.org/simple, https://us-python.pkg.dev/colab-wheels/public/simple/\n",
      "Requirement already satisfied: pandas-datareader in /usr/local/lib/python3.8/dist-packages (0.10.0)\n",
      "Requirement already satisfied: pandas>=0.23 in /usr/local/lib/python3.8/dist-packages (from pandas-datareader) (1.5.3)\n",
      "Requirement already satisfied: requests>=2.19.0 in /usr/local/lib/python3.8/dist-packages (from pandas-datareader) (2.28.2)\n",
      "Requirement already satisfied: lxml in /usr/local/lib/python3.8/dist-packages (from pandas-datareader) (4.9.2)\n",
      "Requirement already satisfied: pytz>=2020.1 in /usr/local/lib/python3.8/dist-packages (from pandas>=0.23->pandas-datareader) (2022.7.1)\n",
      "Requirement already satisfied: numpy>=1.20.3 in /usr/local/lib/python3.8/dist-packages (from pandas>=0.23->pandas-datareader) (1.22.4)\n",
      "Requirement already satisfied: python-dateutil>=2.8.1 in /usr/local/lib/python3.8/dist-packages (from pandas>=0.23->pandas-datareader) (2.8.2)\n",
      "Requirement already satisfied: charset-normalizer<4,>=2 in /usr/local/lib/python3.8/dist-packages (from requests>=2.19.0->pandas-datareader) (3.0.1)\n",
      "Requirement already satisfied: idna<4,>=2.5 in /usr/local/lib/python3.8/dist-packages (from requests>=2.19.0->pandas-datareader) (2.10)\n",
      "Requirement already satisfied: urllib3<1.27,>=1.21.1 in /usr/local/lib/python3.8/dist-packages (from requests>=2.19.0->pandas-datareader) (1.26.14)\n",
      "Requirement already satisfied: certifi>=2017.4.17 in /usr/local/lib/python3.8/dist-packages (from requests>=2.19.0->pandas-datareader) (2022.12.7)\n",
      "Requirement already satisfied: six>=1.5 in /usr/local/lib/python3.8/dist-packages (from python-dateutil>=2.8.1->pandas>=0.23->pandas-datareader) (1.15.0)\n",
      "Looking in indexes: https://pypi.org/simple, https://us-python.pkg.dev/colab-wheels/public/simple/\n",
      "Requirement already satisfied: yfinance in /usr/local/lib/python3.8/dist-packages (0.2.12)\n",
      "Requirement already satisfied: multitasking>=0.0.7 in /usr/local/lib/python3.8/dist-packages (from yfinance) (0.0.11)\n",
      "Requirement already satisfied: appdirs>=1.4.4 in /usr/local/lib/python3.8/dist-packages (from yfinance) (1.4.4)\n",
      "Requirement already satisfied: requests>=2.26 in /usr/local/lib/python3.8/dist-packages (from yfinance) (2.28.2)\n",
      "Requirement already satisfied: html5lib>=1.1 in /usr/local/lib/python3.8/dist-packages (from yfinance) (1.1)\n",
      "Requirement already satisfied: lxml>=4.9.1 in /usr/local/lib/python3.8/dist-packages (from yfinance) (4.9.2)\n",
      "Requirement already satisfied: cryptography>=3.3.2 in /usr/local/lib/python3.8/dist-packages (from yfinance) (39.0.1)\n",
      "Requirement already satisfied: pandas>=1.3.0 in /usr/local/lib/python3.8/dist-packages (from yfinance) (1.5.3)\n",
      "Requirement already satisfied: beautifulsoup4>=4.11.1 in /usr/local/lib/python3.8/dist-packages (from yfinance) (4.11.2)\n",
      "Requirement already satisfied: numpy>=1.16.5 in /usr/local/lib/python3.8/dist-packages (from yfinance) (1.22.4)\n",
      "Requirement already satisfied: pytz>=2022.5 in /usr/local/lib/python3.8/dist-packages (from yfinance) (2022.7.1)\n",
      "Requirement already satisfied: frozendict>=2.3.4 in /usr/local/lib/python3.8/dist-packages (from yfinance) (2.3.5)\n",
      "Requirement already satisfied: soupsieve>1.2 in /usr/local/lib/python3.8/dist-packages (from beautifulsoup4>=4.11.1->yfinance) (2.4)\n",
      "Requirement already satisfied: cffi>=1.12 in /usr/local/lib/python3.8/dist-packages (from cryptography>=3.3.2->yfinance) (1.15.1)\n",
      "Requirement already satisfied: six>=1.9 in /usr/local/lib/python3.8/dist-packages (from html5lib>=1.1->yfinance) (1.15.0)\n",
      "Requirement already satisfied: webencodings in /usr/local/lib/python3.8/dist-packages (from html5lib>=1.1->yfinance) (0.5.1)\n",
      "Requirement already satisfied: python-dateutil>=2.8.1 in /usr/local/lib/python3.8/dist-packages (from pandas>=1.3.0->yfinance) (2.8.2)\n",
      "Requirement already satisfied: charset-normalizer<4,>=2 in /usr/local/lib/python3.8/dist-packages (from requests>=2.26->yfinance) (3.0.1)\n",
      "Requirement already satisfied: idna<4,>=2.5 in /usr/local/lib/python3.8/dist-packages (from requests>=2.26->yfinance) (2.10)\n",
      "Requirement already satisfied: certifi>=2017.4.17 in /usr/local/lib/python3.8/dist-packages (from requests>=2.26->yfinance) (2022.12.7)\n",
      "Requirement already satisfied: urllib3<1.27,>=1.21.1 in /usr/local/lib/python3.8/dist-packages (from requests>=2.26->yfinance) (1.26.14)\n",
      "Requirement already satisfied: pycparser in /usr/local/lib/python3.8/dist-packages (from cffi>=1.12->cryptography>=3.3.2->yfinance) (2.21)\n",
      "Looking in indexes: https://pypi.org/simple, https://us-python.pkg.dev/colab-wheels/public/simple/\n",
      "Requirement already satisfied: stockstats in /usr/local/lib/python3.8/dist-packages (0.5.2)\n",
      "Requirement already satisfied: pandas>=0.24.2 in /usr/local/lib/python3.8/dist-packages (from stockstats) (1.5.3)\n",
      "Requirement already satisfied: pytz>=2020.1 in /usr/local/lib/python3.8/dist-packages (from pandas>=0.24.2->stockstats) (2022.7.1)\n",
      "Requirement already satisfied: python-dateutil>=2.8.1 in /usr/local/lib/python3.8/dist-packages (from pandas>=0.24.2->stockstats) (2.8.2)\n",
      "Requirement already satisfied: numpy>=1.20.3 in /usr/local/lib/python3.8/dist-packages (from pandas>=0.24.2->stockstats) (1.22.4)\n",
      "Requirement already satisfied: six>=1.5 in /usr/local/lib/python3.8/dist-packages (from python-dateutil>=2.8.1->pandas>=0.24.2->stockstats) (1.15.0)\n",
      "Looking in indexes: https://pypi.org/simple, https://us-python.pkg.dev/colab-wheels/public/simple/\n",
      "Requirement already satisfied: matplotlib in /usr/local/lib/python3.8/dist-packages (3.5.3)\n",
      "Requirement already satisfied: kiwisolver>=1.0.1 in /usr/local/lib/python3.8/dist-packages (from matplotlib) (1.4.4)\n",
      "Requirement already satisfied: numpy>=1.17 in /usr/local/lib/python3.8/dist-packages (from matplotlib) (1.22.4)\n",
      "Requirement already satisfied: pillow>=6.2.0 in /usr/local/lib/python3.8/dist-packages (from matplotlib) (8.4.0)\n",
      "Requirement already satisfied: cycler>=0.10 in /usr/local/lib/python3.8/dist-packages (from matplotlib) (0.11.0)\n",
      "Requirement already satisfied: python-dateutil>=2.7 in /usr/local/lib/python3.8/dist-packages (from matplotlib) (2.8.2)\n",
      "Requirement already satisfied: fonttools>=4.22.0 in /usr/local/lib/python3.8/dist-packages (from matplotlib) (4.38.0)\n",
      "Requirement already satisfied: pyparsing>=2.2.1 in /usr/local/lib/python3.8/dist-packages (from matplotlib) (3.0.9)\n",
      "Requirement already satisfied: packaging>=20.0 in /usr/local/lib/python3.8/dist-packages (from matplotlib) (23.0)\n",
      "Requirement already satisfied: six>=1.5 in /usr/local/lib/python3.8/dist-packages (from python-dateutil>=2.7->matplotlib) (1.15.0)\n",
      "Looking in indexes: https://pypi.org/simple, https://us-python.pkg.dev/colab-wheels/public/simple/\n",
      "Requirement already satisfied: PyPortfolioOpt in /usr/local/lib/python3.8/dist-packages (1.5.4)\n",
      "Requirement already satisfied: pandas>=0.19 in /usr/local/lib/python3.8/dist-packages (from PyPortfolioOpt) (1.5.3)\n",
      "Requirement already satisfied: numpy<2.0.0,>=1.22.4 in /usr/local/lib/python3.8/dist-packages (from PyPortfolioOpt) (1.22.4)\n",
      "Requirement already satisfied: scipy<2.0,>=1.3 in /usr/local/lib/python3.8/dist-packages (from PyPortfolioOpt) (1.7.3)\n",
      "Requirement already satisfied: cvxpy<2.0.0,>=1.1.10 in /usr/local/lib/python3.8/dist-packages (from PyPortfolioOpt) (1.2.3)\n",
      "Requirement already satisfied: osqp>=0.4.1 in /usr/local/lib/python3.8/dist-packages (from cvxpy<2.0.0,>=1.1.10->PyPortfolioOpt) (0.6.2.post0)\n",
      "Requirement already satisfied: setuptools<=64.0.2 in /usr/local/lib/python3.8/dist-packages (from cvxpy<2.0.0,>=1.1.10->PyPortfolioOpt) (57.4.0)\n",
      "Requirement already satisfied: scs>=1.1.6 in /usr/local/lib/python3.8/dist-packages (from cvxpy<2.0.0,>=1.1.10->PyPortfolioOpt) (3.2.2)\n",
      "Requirement already satisfied: ecos>=2 in /usr/local/lib/python3.8/dist-packages (from cvxpy<2.0.0,>=1.1.10->PyPortfolioOpt) (2.0.12)\n",
      "Requirement already satisfied: pytz>=2020.1 in /usr/local/lib/python3.8/dist-packages (from pandas>=0.19->PyPortfolioOpt) (2022.7.1)\n",
      "Requirement already satisfied: python-dateutil>=2.8.1 in /usr/local/lib/python3.8/dist-packages (from pandas>=0.19->PyPortfolioOpt) (2.8.2)\n",
      "Requirement already satisfied: qdldl in /usr/local/lib/python3.8/dist-packages (from osqp>=0.4.1->cvxpy<2.0.0,>=1.1.10->PyPortfolioOpt) (0.1.5.post3)\n",
      "Requirement already satisfied: six>=1.5 in /usr/local/lib/python3.8/dist-packages (from python-dateutil>=2.8.1->pandas>=0.19->PyPortfolioOpt) (1.15.0)\n"
     ]
    }
   ],
   "source": [
    "!pip install --upgrade pandas\n",
    "!pip install --upgrade pandas-datareader\n",
    "!pip install yfinance\n",
    "!pip install stockstats\n",
    "!pip install matplotlib\n",
    "!pip install PyPortfolioOpt"
   ]
  },
  {
   "cell_type": "code",
   "execution_count": null,
   "metadata": {
    "id": "ohZgJtt9Af0_"
   },
   "outputs": [],
   "source": [
    "# pandas, pandas_datareader, numpy and matplotlib\n",
    "\n",
    "import numpy as np\n",
    "from matplotlib import pyplot\n",
    "import pandas as pd\n",
    "from pandas.plotting import scatter_matrix\n",
    "import seaborn as sns\n",
    "from sklearn.preprocessing import StandardScaler\n",
    "from pandas.plotting import scatter_matrix\n",
    "from statsmodels.graphics.tsaplots import plot_acf\n",
    "import matplotlib.pyplot as plt"
   ]
  },
  {
   "cell_type": "code",
   "execution_count": null,
   "metadata": {
    "id": "yrSmcs3t7yas"
   },
   "outputs": [],
   "source": [
    "from stockstats import StockDataFrame\n",
    "import pandas_datareader.data as pdr"
   ]
  },
  {
   "cell_type": "code",
   "execution_count": null,
   "metadata": {
    "colab": {
     "base_uri": "https://localhost:8080/",
     "height": 741
    },
    "id": "RMnZE3cD26J1",
    "outputId": "21443938-0c42-4446-dd4c-30481bc3c4fe"
   },
   "outputs": [
    {
     "name": "stdout",
     "output_type": "stream",
     "text": [
      "[*********************100%***********************]  7 of 7 completed\n"
     ]
    },
    {
     "data": {
      "text/html": [
       "\n",
       "  <div id=\"df-6ee07240-4aaa-4ee9-9f2e-4b6b05c43271\">\n",
       "    <div class=\"colab-df-container\">\n",
       "      <div>\n",
       "<style scoped>\n",
       "    .dataframe tbody tr th:only-of-type {\n",
       "        vertical-align: middle;\n",
       "    }\n",
       "\n",
       "    .dataframe tbody tr th {\n",
       "        vertical-align: top;\n",
       "    }\n",
       "\n",
       "    .dataframe thead tr th {\n",
       "        text-align: left;\n",
       "    }\n",
       "\n",
       "    .dataframe thead tr:last-of-type th {\n",
       "        text-align: right;\n",
       "    }\n",
       "</style>\n",
       "<table border=\"1\" class=\"dataframe\">\n",
       "  <thead>\n",
       "    <tr>\n",
       "      <th></th>\n",
       "      <th colspan=\"7\" halign=\"left\">Adj Close</th>\n",
       "      <th colspan=\"3\" halign=\"left\">Close</th>\n",
       "      <th>...</th>\n",
       "      <th colspan=\"3\" halign=\"left\">Open</th>\n",
       "      <th colspan=\"7\" halign=\"left\">Volume</th>\n",
       "    </tr>\n",
       "    <tr>\n",
       "      <th></th>\n",
       "      <th>AAPL</th>\n",
       "      <th>AMZN</th>\n",
       "      <th>CSCO</th>\n",
       "      <th>GOOGL</th>\n",
       "      <th>HD</th>\n",
       "      <th>IBM</th>\n",
       "      <th>MSFT</th>\n",
       "      <th>AAPL</th>\n",
       "      <th>AMZN</th>\n",
       "      <th>CSCO</th>\n",
       "      <th>...</th>\n",
       "      <th>HD</th>\n",
       "      <th>IBM</th>\n",
       "      <th>MSFT</th>\n",
       "      <th>AAPL</th>\n",
       "      <th>AMZN</th>\n",
       "      <th>CSCO</th>\n",
       "      <th>GOOGL</th>\n",
       "      <th>HD</th>\n",
       "      <th>IBM</th>\n",
       "      <th>MSFT</th>\n",
       "    </tr>\n",
       "    <tr>\n",
       "      <th>Date</th>\n",
       "      <th></th>\n",
       "      <th></th>\n",
       "      <th></th>\n",
       "      <th></th>\n",
       "      <th></th>\n",
       "      <th></th>\n",
       "      <th></th>\n",
       "      <th></th>\n",
       "      <th></th>\n",
       "      <th></th>\n",
       "      <th></th>\n",
       "      <th></th>\n",
       "      <th></th>\n",
       "      <th></th>\n",
       "      <th></th>\n",
       "      <th></th>\n",
       "      <th></th>\n",
       "      <th></th>\n",
       "      <th></th>\n",
       "      <th></th>\n",
       "      <th></th>\n",
       "    </tr>\n",
       "  </thead>\n",
       "  <tbody>\n",
       "    <tr>\n",
       "      <th>1962-01-02</th>\n",
       "      <td>NaN</td>\n",
       "      <td>NaN</td>\n",
       "      <td>NaN</td>\n",
       "      <td>NaN</td>\n",
       "      <td>NaN</td>\n",
       "      <td>1.613219</td>\n",
       "      <td>NaN</td>\n",
       "      <td>NaN</td>\n",
       "      <td>NaN</td>\n",
       "      <td>NaN</td>\n",
       "      <td>...</td>\n",
       "      <td>NaN</td>\n",
       "      <td>7.374124</td>\n",
       "      <td>NaN</td>\n",
       "      <td>NaN</td>\n",
       "      <td>NaN</td>\n",
       "      <td>NaN</td>\n",
       "      <td>NaN</td>\n",
       "      <td>NaN</td>\n",
       "      <td>407940</td>\n",
       "      <td>NaN</td>\n",
       "    </tr>\n",
       "    <tr>\n",
       "      <th>1962-01-03</th>\n",
       "      <td>NaN</td>\n",
       "      <td>NaN</td>\n",
       "      <td>NaN</td>\n",
       "      <td>NaN</td>\n",
       "      <td>NaN</td>\n",
       "      <td>1.627321</td>\n",
       "      <td>NaN</td>\n",
       "      <td>NaN</td>\n",
       "      <td>NaN</td>\n",
       "      <td>NaN</td>\n",
       "      <td>...</td>\n",
       "      <td>NaN</td>\n",
       "      <td>7.291268</td>\n",
       "      <td>NaN</td>\n",
       "      <td>NaN</td>\n",
       "      <td>NaN</td>\n",
       "      <td>NaN</td>\n",
       "      <td>NaN</td>\n",
       "      <td>NaN</td>\n",
       "      <td>305955</td>\n",
       "      <td>NaN</td>\n",
       "    </tr>\n",
       "    <tr>\n",
       "      <th>1962-01-04</th>\n",
       "      <td>NaN</td>\n",
       "      <td>NaN</td>\n",
       "      <td>NaN</td>\n",
       "      <td>NaN</td>\n",
       "      <td>NaN</td>\n",
       "      <td>1.611102</td>\n",
       "      <td>NaN</td>\n",
       "      <td>NaN</td>\n",
       "      <td>NaN</td>\n",
       "      <td>NaN</td>\n",
       "      <td>...</td>\n",
       "      <td>NaN</td>\n",
       "      <td>7.355003</td>\n",
       "      <td>NaN</td>\n",
       "      <td>NaN</td>\n",
       "      <td>NaN</td>\n",
       "      <td>NaN</td>\n",
       "      <td>NaN</td>\n",
       "      <td>NaN</td>\n",
       "      <td>274575</td>\n",
       "      <td>NaN</td>\n",
       "    </tr>\n",
       "    <tr>\n",
       "      <th>1962-01-05</th>\n",
       "      <td>NaN</td>\n",
       "      <td>NaN</td>\n",
       "      <td>NaN</td>\n",
       "      <td>NaN</td>\n",
       "      <td>NaN</td>\n",
       "      <td>1.579375</td>\n",
       "      <td>NaN</td>\n",
       "      <td>NaN</td>\n",
       "      <td>NaN</td>\n",
       "      <td>NaN</td>\n",
       "      <td>...</td>\n",
       "      <td>NaN</td>\n",
       "      <td>7.272148</td>\n",
       "      <td>NaN</td>\n",
       "      <td>NaN</td>\n",
       "      <td>NaN</td>\n",
       "      <td>NaN</td>\n",
       "      <td>NaN</td>\n",
       "      <td>NaN</td>\n",
       "      <td>384405</td>\n",
       "      <td>NaN</td>\n",
       "    </tr>\n",
       "    <tr>\n",
       "      <th>1962-01-08</th>\n",
       "      <td>NaN</td>\n",
       "      <td>NaN</td>\n",
       "      <td>NaN</td>\n",
       "      <td>NaN</td>\n",
       "      <td>NaN</td>\n",
       "      <td>1.549760</td>\n",
       "      <td>NaN</td>\n",
       "      <td>NaN</td>\n",
       "      <td>NaN</td>\n",
       "      <td>NaN</td>\n",
       "      <td>...</td>\n",
       "      <td>NaN</td>\n",
       "      <td>7.131931</td>\n",
       "      <td>NaN</td>\n",
       "      <td>NaN</td>\n",
       "      <td>NaN</td>\n",
       "      <td>NaN</td>\n",
       "      <td>NaN</td>\n",
       "      <td>NaN</td>\n",
       "      <td>572685</td>\n",
       "      <td>NaN</td>\n",
       "    </tr>\n",
       "    <tr>\n",
       "      <th>...</th>\n",
       "      <td>...</td>\n",
       "      <td>...</td>\n",
       "      <td>...</td>\n",
       "      <td>...</td>\n",
       "      <td>...</td>\n",
       "      <td>...</td>\n",
       "      <td>...</td>\n",
       "      <td>...</td>\n",
       "      <td>...</td>\n",
       "      <td>...</td>\n",
       "      <td>...</td>\n",
       "      <td>...</td>\n",
       "      <td>...</td>\n",
       "      <td>...</td>\n",
       "      <td>...</td>\n",
       "      <td>...</td>\n",
       "      <td>...</td>\n",
       "      <td>...</td>\n",
       "      <td>...</td>\n",
       "      <td>...</td>\n",
       "      <td>...</td>\n",
       "    </tr>\n",
       "    <tr>\n",
       "      <th>2023-02-22</th>\n",
       "      <td>148.910004</td>\n",
       "      <td>95.790001</td>\n",
       "      <td>49.310001</td>\n",
       "      <td>91.650002</td>\n",
       "      <td>296.299988</td>\n",
       "      <td>130.970001</td>\n",
       "      <td>251.509995</td>\n",
       "      <td>148.910004</td>\n",
       "      <td>95.790001</td>\n",
       "      <td>49.310001</td>\n",
       "      <td>...</td>\n",
       "      <td>297.549988</td>\n",
       "      <td>131.899994</td>\n",
       "      <td>254.089996</td>\n",
       "      <td>51011300.0</td>\n",
       "      <td>59534100.0</td>\n",
       "      <td>20301900.0</td>\n",
       "      <td>30884000.0</td>\n",
       "      <td>5922100.0</td>\n",
       "      <td>3200200</td>\n",
       "      <td>22491100.0</td>\n",
       "    </tr>\n",
       "    <tr>\n",
       "      <th>2023-02-23</th>\n",
       "      <td>149.399994</td>\n",
       "      <td>95.820000</td>\n",
       "      <td>49.209999</td>\n",
       "      <td>90.889999</td>\n",
       "      <td>299.309998</td>\n",
       "      <td>130.789993</td>\n",
       "      <td>254.770004</td>\n",
       "      <td>149.399994</td>\n",
       "      <td>95.820000</td>\n",
       "      <td>49.209999</td>\n",
       "      <td>...</td>\n",
       "      <td>296.790009</td>\n",
       "      <td>131.500000</td>\n",
       "      <td>255.559998</td>\n",
       "      <td>48394200.0</td>\n",
       "      <td>48467000.0</td>\n",
       "      <td>14066200.0</td>\n",
       "      <td>41206400.0</td>\n",
       "      <td>4354500.0</td>\n",
       "      <td>3725600</td>\n",
       "      <td>29219100.0</td>\n",
       "    </tr>\n",
       "    <tr>\n",
       "      <th>2023-02-24</th>\n",
       "      <td>146.710007</td>\n",
       "      <td>93.500000</td>\n",
       "      <td>48.480000</td>\n",
       "      <td>89.129997</td>\n",
       "      <td>296.660004</td>\n",
       "      <td>130.570007</td>\n",
       "      <td>249.220001</td>\n",
       "      <td>146.710007</td>\n",
       "      <td>93.500000</td>\n",
       "      <td>48.480000</td>\n",
       "      <td>...</td>\n",
       "      <td>292.399994</td>\n",
       "      <td>129.619995</td>\n",
       "      <td>249.960007</td>\n",
       "      <td>55418200.0</td>\n",
       "      <td>57010100.0</td>\n",
       "      <td>17251300.0</td>\n",
       "      <td>36554600.0</td>\n",
       "      <td>3713000.0</td>\n",
       "      <td>3015800</td>\n",
       "      <td>24978700.0</td>\n",
       "    </tr>\n",
       "    <tr>\n",
       "      <th>2023-02-27</th>\n",
       "      <td>147.919998</td>\n",
       "      <td>93.760002</td>\n",
       "      <td>48.730000</td>\n",
       "      <td>89.870003</td>\n",
       "      <td>296.010010</td>\n",
       "      <td>130.490005</td>\n",
       "      <td>250.160004</td>\n",
       "      <td>147.919998</td>\n",
       "      <td>93.760002</td>\n",
       "      <td>48.730000</td>\n",
       "      <td>...</td>\n",
       "      <td>299.359985</td>\n",
       "      <td>131.419998</td>\n",
       "      <td>252.460007</td>\n",
       "      <td>44998500.0</td>\n",
       "      <td>47470300.0</td>\n",
       "      <td>14776400.0</td>\n",
       "      <td>27502300.0</td>\n",
       "      <td>3238300.0</td>\n",
       "      <td>2761300</td>\n",
       "      <td>21190000.0</td>\n",
       "    </tr>\n",
       "    <tr>\n",
       "      <th>2023-02-28</th>\n",
       "      <td>147.410004</td>\n",
       "      <td>94.230003</td>\n",
       "      <td>48.419998</td>\n",
       "      <td>90.059998</td>\n",
       "      <td>296.540009</td>\n",
       "      <td>129.300003</td>\n",
       "      <td>249.419998</td>\n",
       "      <td>147.410004</td>\n",
       "      <td>94.230003</td>\n",
       "      <td>48.419998</td>\n",
       "      <td>...</td>\n",
       "      <td>295.000000</td>\n",
       "      <td>130.550003</td>\n",
       "      <td>249.070007</td>\n",
       "      <td>50455400.0</td>\n",
       "      <td>43901300.0</td>\n",
       "      <td>16621200.0</td>\n",
       "      <td>30081100.0</td>\n",
       "      <td>3948600.0</td>\n",
       "      <td>5141900</td>\n",
       "      <td>22467600.0</td>\n",
       "    </tr>\n",
       "  </tbody>\n",
       "</table>\n",
       "<p>15395 rows × 42 columns</p>\n",
       "</div>\n",
       "      <button class=\"colab-df-convert\" onclick=\"convertToInteractive('df-6ee07240-4aaa-4ee9-9f2e-4b6b05c43271')\"\n",
       "              title=\"Convert this dataframe to an interactive table.\"\n",
       "              style=\"display:none;\">\n",
       "        \n",
       "  <svg xmlns=\"http://www.w3.org/2000/svg\" height=\"24px\"viewBox=\"0 0 24 24\"\n",
       "       width=\"24px\">\n",
       "    <path d=\"M0 0h24v24H0V0z\" fill=\"none\"/>\n",
       "    <path d=\"M18.56 5.44l.94 2.06.94-2.06 2.06-.94-2.06-.94-.94-2.06-.94 2.06-2.06.94zm-11 1L8.5 8.5l.94-2.06 2.06-.94-2.06-.94L8.5 2.5l-.94 2.06-2.06.94zm10 10l.94 2.06.94-2.06 2.06-.94-2.06-.94-.94-2.06-.94 2.06-2.06.94z\"/><path d=\"M17.41 7.96l-1.37-1.37c-.4-.4-.92-.59-1.43-.59-.52 0-1.04.2-1.43.59L10.3 9.45l-7.72 7.72c-.78.78-.78 2.05 0 2.83L4 21.41c.39.39.9.59 1.41.59.51 0 1.02-.2 1.41-.59l7.78-7.78 2.81-2.81c.8-.78.8-2.07 0-2.86zM5.41 20L4 18.59l7.72-7.72 1.47 1.35L5.41 20z\"/>\n",
       "  </svg>\n",
       "      </button>\n",
       "      \n",
       "  <style>\n",
       "    .colab-df-container {\n",
       "      display:flex;\n",
       "      flex-wrap:wrap;\n",
       "      gap: 12px;\n",
       "    }\n",
       "\n",
       "    .colab-df-convert {\n",
       "      background-color: #E8F0FE;\n",
       "      border: none;\n",
       "      border-radius: 50%;\n",
       "      cursor: pointer;\n",
       "      display: none;\n",
       "      fill: #1967D2;\n",
       "      height: 32px;\n",
       "      padding: 0 0 0 0;\n",
       "      width: 32px;\n",
       "    }\n",
       "\n",
       "    .colab-df-convert:hover {\n",
       "      background-color: #E2EBFA;\n",
       "      box-shadow: 0px 1px 2px rgba(60, 64, 67, 0.3), 0px 1px 3px 1px rgba(60, 64, 67, 0.15);\n",
       "      fill: #174EA6;\n",
       "    }\n",
       "\n",
       "    [theme=dark] .colab-df-convert {\n",
       "      background-color: #3B4455;\n",
       "      fill: #D2E3FC;\n",
       "    }\n",
       "\n",
       "    [theme=dark] .colab-df-convert:hover {\n",
       "      background-color: #434B5C;\n",
       "      box-shadow: 0px 1px 3px 1px rgba(0, 0, 0, 0.15);\n",
       "      filter: drop-shadow(0px 1px 2px rgba(0, 0, 0, 0.3));\n",
       "      fill: #FFFFFF;\n",
       "    }\n",
       "  </style>\n",
       "\n",
       "      <script>\n",
       "        const buttonEl =\n",
       "          document.querySelector('#df-6ee07240-4aaa-4ee9-9f2e-4b6b05c43271 button.colab-df-convert');\n",
       "        buttonEl.style.display =\n",
       "          google.colab.kernel.accessAllowed ? 'block' : 'none';\n",
       "\n",
       "        async function convertToInteractive(key) {\n",
       "          const element = document.querySelector('#df-6ee07240-4aaa-4ee9-9f2e-4b6b05c43271');\n",
       "          const dataTable =\n",
       "            await google.colab.kernel.invokeFunction('convertToInteractive',\n",
       "                                                     [key], {});\n",
       "          if (!dataTable) return;\n",
       "\n",
       "          const docLinkHtml = 'Like what you see? Visit the ' +\n",
       "            '<a target=\"_blank\" href=https://colab.research.google.com/notebooks/data_table.ipynb>data table notebook</a>'\n",
       "            + ' to learn more about interactive tables.';\n",
       "          element.innerHTML = '';\n",
       "          dataTable['output_type'] = 'display_data';\n",
       "          await google.colab.output.renderOutput(dataTable, element);\n",
       "          const docLink = document.createElement('div');\n",
       "          docLink.innerHTML = docLinkHtml;\n",
       "          element.appendChild(docLink);\n",
       "        }\n",
       "      </script>\n",
       "    </div>\n",
       "  </div>\n",
       "  "
      ],
      "text/plain": [
       "             Adj Close                                               \\\n",
       "                  AAPL       AMZN       CSCO      GOOGL          HD   \n",
       "Date                                                                  \n",
       "1962-01-02         NaN        NaN        NaN        NaN         NaN   \n",
       "1962-01-03         NaN        NaN        NaN        NaN         NaN   \n",
       "1962-01-04         NaN        NaN        NaN        NaN         NaN   \n",
       "1962-01-05         NaN        NaN        NaN        NaN         NaN   \n",
       "1962-01-08         NaN        NaN        NaN        NaN         NaN   \n",
       "...                ...        ...        ...        ...         ...   \n",
       "2023-02-22  148.910004  95.790001  49.310001  91.650002  296.299988   \n",
       "2023-02-23  149.399994  95.820000  49.209999  90.889999  299.309998   \n",
       "2023-02-24  146.710007  93.500000  48.480000  89.129997  296.660004   \n",
       "2023-02-27  147.919998  93.760002  48.730000  89.870003  296.010010   \n",
       "2023-02-28  147.410004  94.230003  48.419998  90.059998  296.540009   \n",
       "\n",
       "                                         Close                        ...  \\\n",
       "                   IBM        MSFT        AAPL       AMZN       CSCO  ...   \n",
       "Date                                                                  ...   \n",
       "1962-01-02    1.613219         NaN         NaN        NaN        NaN  ...   \n",
       "1962-01-03    1.627321         NaN         NaN        NaN        NaN  ...   \n",
       "1962-01-04    1.611102         NaN         NaN        NaN        NaN  ...   \n",
       "1962-01-05    1.579375         NaN         NaN        NaN        NaN  ...   \n",
       "1962-01-08    1.549760         NaN         NaN        NaN        NaN  ...   \n",
       "...                ...         ...         ...        ...        ...  ...   \n",
       "2023-02-22  130.970001  251.509995  148.910004  95.790001  49.310001  ...   \n",
       "2023-02-23  130.789993  254.770004  149.399994  95.820000  49.209999  ...   \n",
       "2023-02-24  130.570007  249.220001  146.710007  93.500000  48.480000  ...   \n",
       "2023-02-27  130.490005  250.160004  147.919998  93.760002  48.730000  ...   \n",
       "2023-02-28  129.300003  249.419998  147.410004  94.230003  48.419998  ...   \n",
       "\n",
       "                  Open                              Volume              \\\n",
       "                    HD         IBM        MSFT        AAPL        AMZN   \n",
       "Date                                                                     \n",
       "1962-01-02         NaN    7.374124         NaN         NaN         NaN   \n",
       "1962-01-03         NaN    7.291268         NaN         NaN         NaN   \n",
       "1962-01-04         NaN    7.355003         NaN         NaN         NaN   \n",
       "1962-01-05         NaN    7.272148         NaN         NaN         NaN   \n",
       "1962-01-08         NaN    7.131931         NaN         NaN         NaN   \n",
       "...                ...         ...         ...         ...         ...   \n",
       "2023-02-22  297.549988  131.899994  254.089996  51011300.0  59534100.0   \n",
       "2023-02-23  296.790009  131.500000  255.559998  48394200.0  48467000.0   \n",
       "2023-02-24  292.399994  129.619995  249.960007  55418200.0  57010100.0   \n",
       "2023-02-27  299.359985  131.419998  252.460007  44998500.0  47470300.0   \n",
       "2023-02-28  295.000000  130.550003  249.070007  50455400.0  43901300.0   \n",
       "\n",
       "                                                                    \n",
       "                  CSCO       GOOGL         HD      IBM        MSFT  \n",
       "Date                                                                \n",
       "1962-01-02         NaN         NaN        NaN   407940         NaN  \n",
       "1962-01-03         NaN         NaN        NaN   305955         NaN  \n",
       "1962-01-04         NaN         NaN        NaN   274575         NaN  \n",
       "1962-01-05         NaN         NaN        NaN   384405         NaN  \n",
       "1962-01-08         NaN         NaN        NaN   572685         NaN  \n",
       "...                ...         ...        ...      ...         ...  \n",
       "2023-02-22  20301900.0  30884000.0  5922100.0  3200200  22491100.0  \n",
       "2023-02-23  14066200.0  41206400.0  4354500.0  3725600  29219100.0  \n",
       "2023-02-24  17251300.0  36554600.0  3713000.0  3015800  24978700.0  \n",
       "2023-02-27  14776400.0  27502300.0  3238300.0  2761300  21190000.0  \n",
       "2023-02-28  16621200.0  30081100.0  3948600.0  5141900  22467600.0  \n",
       "\n",
       "[15395 rows x 42 columns]"
      ]
     },
     "execution_count": 295,
     "metadata": {},
     "output_type": "execute_result"
    }
   ],
   "source": [
    "import yfinance as yfin\n",
    "yfin.pdr_override()\n",
    "stk_tickers = [\"MSFT\", \"IBM\", \"GOOGL\", \"AMZN\",\"AAPL\",\"CSCO\",\"HD\"]\n",
    "stk_data = pdr.get_data_yahoo(stk_tickers)\n",
    "stk_data\n"
   ]
  },
  {
   "cell_type": "markdown",
   "metadata": {
    "id": "ctaNY-y9UZnI"
   },
   "source": [
    "# Single stock example"
   ]
  },
  {
   "cell_type": "markdown",
   "metadata": {
    "id": "bOhZUmJNU36e"
   },
   "source": [
    "## Params"
   ]
  },
  {
   "cell_type": "code",
   "execution_count": null,
   "metadata": {
    "id": "VtzQB2807CwO"
   },
   "outputs": [],
   "source": [
    "# params change this to modify the whole thing\n",
    "pred_stock = 'MSFT'\n",
    "num_folds = 2\n",
    "scoring_mse = \"neg_mean_squared_error\"\n",
    "scoring_mae = \"mean_absolute_error\"\n",
    "scoring_r2_score = \"neg_r2_score\"\n",
    "scoring_ape = \"neg_mean_absolute_percentage_error\""
   ]
  },
  {
   "cell_type": "code",
   "execution_count": null,
   "metadata": {
    "id": "hI2qfAeILbNA"
   },
   "outputs": [],
   "source": [
    "from google.colab import files\n",
    "\n",
    "#stk_data.to_csv(\"stk_data.csv\")\n",
    "#files.download(\"stk_data.csv\")"
   ]
  },
  {
   "cell_type": "code",
   "execution_count": null,
   "metadata": {
    "colab": {
     "base_uri": "https://localhost:8080/"
    },
    "id": "5z9R8YCKJ8fX",
    "outputId": "bdef49da-2486-4eff-db03-8a34bcc2f2c2"
   },
   "outputs": [
    {
     "data": {
      "text/plain": [
       "['IBM', 'GOOGL', 'AMZN', 'AAPL', 'CSCO', 'HD']"
      ]
     },
     "execution_count": 298,
     "metadata": {},
     "output_type": "execute_result"
    }
   ],
   "source": [
    "interested_stock = stk_tickers.copy()\n",
    "interested_stock.remove(pred_stock)\n",
    "interested_stock"
   ]
  },
  {
   "cell_type": "code",
   "execution_count": null,
   "metadata": {
    "id": "U4JXYO-U6YR2"
   },
   "outputs": [],
   "source": [
    "temp = pd.DataFrame({\"close\": stk_data.loc[:, ('Adj Close', pred_stock)],\n",
    "\"open\": stk_data.loc[:, ('Open', pred_stock)],\n",
    "\"high\" : stk_data.loc[:, ('High', pred_stock)],\n",
    "\"low\" : stk_data.loc[:, ('Low', pred_stock)],\n",
    "\"volume\" : stk_data.loc[:, ('Volume', pred_stock)]})\n",
    "pred_stockDataFrame = StockDataFrame(temp.copy())"
   ]
  },
  {
   "cell_type": "code",
   "execution_count": null,
   "metadata": {
    "id": "shLtvtK0AeB0"
   },
   "outputs": [],
   "source": [
    "for stock in interested_stock:\n",
    "  temp[stock] = pd.DataFrame({stock: stk_data.loc[:, ('Adj Close', stock)]})\n",
    "  "
   ]
  },
  {
   "cell_type": "code",
   "execution_count": null,
   "metadata": {
    "id": "6_PrmnKwolur"
   },
   "outputs": [],
   "source": [
    "temp['next_close'] = temp['close'].shift(-1)"
   ]
  },
  {
   "cell_type": "code",
   "execution_count": null,
   "metadata": {
    "id": "YOb6jSQoCJEN"
   },
   "outputs": [],
   "source": [
    "# Add a feature\n",
    "temp[\"movement percent\"] = np.where((temp[\"close\"]-temp[\"open\"])==0 , 0,  (temp[\"high\"]-temp[\"low\"])/(temp[\"close\"]-temp[\"open\"]))\n",
    "temp.drop([\"open\",\"high\",\"low\"],axis=1,inplace=True)"
   ]
  },
  {
   "cell_type": "code",
   "execution_count": null,
   "metadata": {
    "id": "57DfwUQABEeJ"
   },
   "outputs": [],
   "source": [
    "from sklearn.linear_model import LinearRegression\n",
    "from sklearn.ensemble import GradientBoostingRegressor\n",
    "from sklearn.model_selection import train_test_split\n",
    "from sklearn.model_selection import KFold\n",
    "from sklearn.model_selection import cross_val_score\n",
    "from sklearn.model_selection import GridSearchCV\n",
    "from sklearn.metrics import mean_squared_error\n",
    "from sklearn.metrics import mean_absolute_error\n",
    "from sklearn.metrics import r2_score\n",
    "from sklearn.metrics import mean_absolute_percentage_error\n",
    "from sklearn.feature_selection import SelectKBest\n",
    "from sklearn.feature_selection import chi2, f_regression\n",
    "from sklearn.preprocessing import StandardScaler\n",
    "from sklearn.linear_model import Ridge\n",
    "from sklearn.linear_model import Lasso\n",
    "from sklearn.linear_model import ElasticNet\n",
    "from sklearn.tree import DecisionTreeRegressor\n",
    "from sklearn.neighbors import KNeighborsRegressor\n",
    "from sklearn.svm import SVR\n",
    "from sklearn.ensemble import RandomForestRegressor\n",
    "from sklearn.ensemble import ExtraTreesRegressor\n",
    "from sklearn.ensemble import AdaBoostRegressor\n",
    "from sklearn.neural_network import MLPRegressor"
   ]
  },
  {
   "cell_type": "markdown",
   "metadata": {
    "id": "P7ECymS7UeD0"
   },
   "source": [
    "## models"
   ]
  },
  {
   "cell_type": "code",
   "execution_count": null,
   "metadata": {
    "id": "s2TP0GRopJde"
   },
   "outputs": [],
   "source": [
    "models = []\n",
    "# Do modelName, modelFunc, errorValueTemp\n",
    "models.append(('LR', LinearRegression(),np.inf))\n",
    "# Boosting methods\n",
    "models.append(('GBR', GradientBoostingRegressor(),np.inf))\n",
    "\n",
    "# Normally ridge would be one model but since it's a model that run fastest\n",
    "models.append(('R1',Ridge(alpha=1),np.inf))\n",
    "models.append(('R0.5',Ridge(alpha=0.5),np.inf))\n",
    "models.append(('R0.2',Ridge(alpha=0.2),np.inf))\n",
    "models.append(('R3',Ridge(alpha=3),np.inf))\n",
    "models.append(('LASSO', Lasso(),np.inf))\n",
    "models.append(('EN',ElasticNet(),np.inf))\n",
    "models.append(('KNN',KNeighborsRegressor(),np.inf))\n",
    "models.append(('CART',DecisionTreeRegressor(),np.inf))\n",
    "models.append(('SVR',SVR(),np.inf))\n",
    "# Boosting methods\n",
    "models.append(('ABR',AdaBoostRegressor(),np.inf))\n",
    "models.append(('GBR',GradientBoostingRegressor(),np.inf))\n",
    "# Bagging methods\n",
    "models.append(('RFR',RandomForestRegressor(),np.inf))\n",
    "models.append(('ETR',ExtraTreesRegressor(),np.inf))\n"
   ]
  },
  {
   "cell_type": "code",
   "execution_count": null,
   "metadata": {
    "id": "EuL0_9kspPZw"
   },
   "outputs": [],
   "source": [
    "used_data = temp.dropna().copy()"
   ]
  },
  {
   "cell_type": "code",
   "execution_count": null,
   "metadata": {
    "id": "OwCC-1v-GnDk"
   },
   "outputs": [],
   "source": [
    "# First separation, one for training and choosing, the other for testing\n",
    "used_data_xtrain, used_data_xtest, used_data_ytrain, used_data_ytest = train_test_split(used_data.drop(\"next_close\",axis=1), used_data[\"next_close\"], test_size=0.3, shuffle=False)\n",
    "trainAndEval = pd.concat([used_data_xtrain,used_data_ytrain],axis=1)  "
   ]
  },
  {
   "cell_type": "code",
   "execution_count": null,
   "metadata": {
    "colab": {
     "base_uri": "https://localhost:8080/"
    },
    "id": "JRms_cpgKBep",
    "outputId": "e3674dc5-098c-4f52-8e1f-08a5f58365c0"
   },
   "outputs": [
    {
     "name": "stdout",
     "output_type": "stream",
     "text": [
      "LR: 0.123537 (0.036311) 0.107398 0.451148\n",
      "GBR: 0.688673 (0.244619) 0.068325 335.117410\n",
      "R1: 0.121118 (0.031198) 0.107406 0.450773\n",
      "R0.5: 0.121974 (0.033449) 0.107400 0.450931\n",
      "R0.2: 0.122804 (0.035071) 0.107398 0.451054\n",
      "R3: 0.121574 (0.025180) 0.107468 0.450710\n",
      "LASSO: 1.995804 (1.534931) 1.108537 79.696465\n",
      "EN: 2.557644 (1.376308) 1.366963 90.539966\n",
      "KNN: 3.043993 (0.186667) 0.140036 354.977294\n",
      "CART: 0.790324 (0.228495) 0.000000 312.898227\n",
      "SVR: 2.977605 (2.127604) 0.142390 539.242190\n",
      "ABR: 0.709375 (0.332396) 0.169906 349.151039\n",
      "GBR: 0.662035 (0.257486) 0.068325 337.411053\n",
      "RFR: 0.412476 (0.257786) 0.017011 328.444310\n",
      "ETR: 1.468660 (0.415519) 0.000000 328.438398\n"
     ]
    }
   ],
   "source": [
    "\n",
    "data = trainAndEval\n",
    "# Transform in case we use lasso\n",
    "scaler = StandardScaler()\n",
    "X_train, X_test, y_train, y_test = train_test_split(data.drop(\"next_close\",axis=1), data[\"next_close\"], test_size=0.4, shuffle=False)\n",
    "X_train_fit = pd.DataFrame(scaler.fit_transform(X_train),columns = X_train.columns)\n",
    "X_test_fit = pd.DataFrame(  scaler.transform(X_test),columns = X_test.columns)\n",
    "\n",
    "\n",
    "names = []\n",
    "kfold_results = []\n",
    "test_results = []\n",
    "train_results = []\n",
    "\n",
    "for name, model,err in models:\n",
    "    names.append(name)\n",
    "    ## k-fold analysis:\n",
    "    # kfold = KFold(n_splits=num_folds, random_state=seed)\n",
    "    kfold = KFold(n_splits=num_folds)\n",
    "    #converted mean squared error to positive. The lower the better\n",
    "    cv_results = -1* cross_val_score(model, X_train_fit, y_train, cv=kfold, scoring=scoring_mse)\n",
    "    kfold_results.append(cv_results)\n",
    "    # Full Training period\n",
    "    model.fit(X_train_fit, y_train)\n",
    "    train_result = mean_squared_error(model.predict(X_train_fit), y_train)\n",
    "    train_results.append(train_result)\n",
    "    # Test results\n",
    "    test_result = mean_squared_error(model.predict(X_test_fit), y_test)\n",
    "    test_results.append(test_result)\n",
    "    msg = \"%s: %f (%f) %f %f\" % (name, cv_results.mean(), cv_results.std(), train_result, test_result)\n",
    "    print(msg)\n",
    "res = pd.DataFrame({\"name\" :[x[0] for x in models], \"test_results\":test_results})"
   ]
  },
  {
   "cell_type": "code",
   "execution_count": null,
   "metadata": {
    "colab": {
     "base_uri": "https://localhost:8080/",
     "height": 35
    },
    "id": "bQ6bDb7Th-cy",
    "outputId": "a81948da-4b41-4566-cccd-b95231cdf6ed"
   },
   "outputs": [
    {
     "data": {
      "application/vnd.google.colaboratory.intrinsic+json": {
       "type": "string"
      },
      "text/plain": [
       "'R3'"
      ]
     },
     "execution_count": 308,
     "metadata": {},
     "output_type": "execute_result"
    }
   ],
   "source": [
    "# Get the minimum mean squared error model\n",
    "minModelName = list(res[res[\"test_results\"]==min(res[\"test_results\"])][\"name\"])[0]\n",
    "minModelName"
   ]
  },
  {
   "cell_type": "code",
   "execution_count": null,
   "metadata": {
    "id": "CFy5PuHWk6cU"
   },
   "outputs": [],
   "source": [
    "# Prediction on real test\n",
    "predictionsmse = []\n",
    "for name, model,err in models:\n",
    "  if name == minModelName:\n",
    "    predictionsmse = model.predict(pd.DataFrame(scaler.transform(used_data_xtest),columns = used_data_xtest.columns))"
   ]
  },
  {
   "cell_type": "code",
   "execution_count": null,
   "metadata": {
    "colab": {
     "base_uri": "https://localhost:8080/",
     "height": 540
    },
    "id": "e8_Tp-Fas8QL",
    "outputId": "29a14837-b411-4f87-d918-c581a4194d2a"
   },
   "outputs": [
    {
     "data": {
      "image/png": "[encoded data removed]",
      "text/plain": [
       "<Figure size 1080x576 with 1 Axes>"
      ]
     },
     "metadata": {
      "needs_background": "light"
     },
     "output_type": "display_data"
    }
   ],
   "source": [
    "fig = pyplot.figure()\n",
    "fig.suptitle('Algorithm Comparison: Kfold results')\n",
    "ax = fig.add_subplot(111)\n",
    "pyplot.boxplot(kfold_results)\n",
    "ax.set_xticklabels(names)\n",
    "fig.set_size_inches(15,8)\n",
    "pyplot.show()"
   ]
  },
  {
   "cell_type": "markdown",
   "metadata": {
    "id": "dicJIo-ClF69"
   },
   "source": [
    "MAE"
   ]
  },
  {
   "cell_type": "code",
   "execution_count": null,
   "metadata": {
    "colab": {
     "base_uri": "https://localhost:8080/"
    },
    "id": "4kkI54iHhaq8",
    "outputId": "b7213124-e115-4cc0-aa64-0e1332f68e64"
   },
   "outputs": [
    {
     "name": "stdout",
     "output_type": "stream",
     "text": [
      "LR: 1.468660 (0.415519) 0.223465 0.480420\n",
      "GBR: 1.468660 (0.415519) 0.190240 14.056156\n",
      "R1: 1.468660 (0.415519) 0.223569 0.479923\n",
      "R0.5: 1.468660 (0.415519) 0.223515 0.480151\n",
      "R0.2: 1.468660 (0.415519) 0.223484 0.480304\n",
      "R3: 1.468660 (0.415519) 0.223857 0.479580\n",
      "LASSO: 1.468660 (0.415519) 0.805424 7.575020\n",
      "EN: 1.468660 (0.415519) 0.848435 7.843710\n",
      "KNN: 1.468660 (0.415519) 0.250746 14.817387\n",
      "CART: 1.468660 (0.415519) 0.000000 13.762146\n",
      "SVR: 1.468660 (0.415519) 0.237153 19.294248\n",
      "ABR: 1.468660 (0.415519) 0.328074 14.592934\n",
      "GBR: 1.468660 (0.415519) 0.190240 14.025616\n",
      "RFR: 1.468660 (0.415519) 0.089916 13.834323\n",
      "ETR: 1.468660 (0.415519) 0.000000 13.955045\n"
     ]
    }
   ],
   "source": [
    "##  scoring_mae = \"mean_absolute_error\"\n",
    "data = trainAndEval\n",
    "# Transform in case we use lasso\n",
    "scaler = StandardScaler()\n",
    "X_train, X_test, y_train, y_test = train_test_split(data.drop(\"next_close\",axis=1), data[\"next_close\"], test_size=0.4, shuffle=False)\n",
    "X_train_fit = pd.DataFrame(scaler.fit_transform(X_train),columns = X_train.columns)\n",
    "X_test_fit = pd.DataFrame(  scaler.transform(X_test),columns = X_test.columns)\n",
    "\n",
    "\n",
    "names = []\n",
    "kfold_results_mae = []\n",
    "test_results_mae = []\n",
    "train_results_mae = []\n",
    "\n",
    "for name, model,err in models:\n",
    "    names.append(name)\n",
    "    ## k-fold analysis:\n",
    "    # kfold = KFold(n_splits=num_folds, random_state=seed)\n",
    "    kfold = KFold(n_splits=num_folds)\n",
    "    #converted mean squared error to positive. The lower the better\n",
    "    cv_results_mae = -1* cross_val_score(model, X_train_fit, y_train, cv=kfold, scoring='neg_mean_absolute_error')\n",
    "    kfold_results_mae.append(cv_results_mae)\n",
    "    # Full Training period\n",
    "    model.fit(X_train_fit, y_train)\n",
    "    train_result_mae = mean_absolute_error(model.predict(X_train_fit), y_train)\n",
    "    train_results_mae.append(train_result_mae)\n",
    "    # Test results\n",
    "    test_result_mae = mean_absolute_error(model.predict(X_test_fit), y_test)\n",
    "    test_results_mae.append(test_result_mae)\n",
    "    msg = \"%s: %f (%f) %f %f\" % (name, cv_results.mean(), cv_results.std(), train_result_mae, test_result_mae)\n",
    "    print(msg)\n",
    "res = pd.DataFrame({\"name\" :[x[0] for x in models], \"test_results_mae\":test_results_mae})"
   ]
  },
  {
   "cell_type": "code",
   "execution_count": null,
   "metadata": {
    "id": "egJPG2UfkL1z"
   },
   "outputs": [],
   "source": [
    "minModelmaeName = list(res[res[\"test_results_mae\"]==min(res[\"test_results_mae\"])][\"name\"])[0]"
   ]
  },
  {
   "cell_type": "code",
   "execution_count": null,
   "metadata": {
    "id": "qMFMdtaSPLuc"
   },
   "outputs": [],
   "source": [
    "# Prediction on real test\n",
    "predictionsmae = []\n",
    "for name, model,err in models:\n",
    "  if name == minModelmaeName:\n",
    "    predictionsmae = model.predict(pd.DataFrame(scaler.transform(used_data_xtest),columns = used_data_xtest.columns))"
   ]
  },
  {
   "cell_type": "code",
   "execution_count": null,
   "metadata": {
    "colab": {
     "base_uri": "https://localhost:8080/",
     "height": 540
    },
    "id": "wYae4DWlt1bf",
    "outputId": "52b81b8f-d2e8-4711-c0ba-186e879ca09b"
   },
   "outputs": [
    {
     "data": {
      "image/png": "[encoded data removed]",
      "text/plain": [
       "<Figure size 1080x576 with 1 Axes>"
      ]
     },
     "metadata": {
      "needs_background": "light"
     },
     "output_type": "display_data"
    }
   ],
   "source": [
    "fig = pyplot.figure()\n",
    "fig.suptitle('Algorithm Comparison: Kfold results')\n",
    "ax = fig.add_subplot(111)\n",
    "pyplot.boxplot(kfold_results_mae)\n",
    "ax.set_xticklabels(names)\n",
    "fig.set_size_inches(15,8)\n",
    "pyplot.show()"
   ]
  },
  {
   "cell_type": "markdown",
   "metadata": {
    "id": "uY-n8nLzltzg"
   },
   "source": [
    "scoring_ape"
   ]
  },
  {
   "cell_type": "code",
   "execution_count": null,
   "metadata": {
    "colab": {
     "base_uri": "https://localhost:8080/"
    },
    "id": "jNlYfyHcl2Zg",
    "outputId": "4f687511-6530-43b2-8b65-ea6d128403e1"
   },
   "outputs": [
    {
     "name": "stdout",
     "output_type": "stream",
     "text": [
      "LR: 0.012866 (0.002303) 0.011580 0.011863\n",
      "GBR: 0.031634 (0.005406) 0.009782 0.523425\n",
      "R1: 0.012852 (0.001962) 0.011586 0.011843\n",
      "R0.5: 0.012837 (0.002118) 0.011583 0.011852\n",
      "R0.2: 0.012849 (0.002224) 0.011581 0.011858\n",
      "R3: 0.013137 (0.001505) 0.011603 0.011822\n",
      "LASSO: 0.052573 (0.025804) 0.041304 0.213540\n",
      "EN: 0.061506 (0.021399) 0.043372 0.220679\n",
      "KNN: 0.075191 (0.005131) 0.013003 0.580099\n",
      "CART: 0.035808 (0.003303) 0.000000 0.510909\n",
      "SVR: 0.056035 (0.027715) 0.012300 0.960355\n",
      "ABR: 0.030845 (0.004608) 0.017256 0.557786\n",
      "GBR: 0.031560 (0.005317) 0.009782 0.529330\n",
      "RFR: 0.021510 (0.007971) 0.004667 0.522926\n",
      "ETR: 0.048372 (0.004209) 0.000000 0.525826\n"
     ]
    }
   ],
   "source": [
    "##  scoring_ape = \"neg_mean_absolute_percentage_error\"\n",
    "data = trainAndEval\n",
    "# Transform in case we use lasso\n",
    "scaler = StandardScaler()\n",
    "X_train, X_test, y_train, y_test = train_test_split(data.drop(\"next_close\",axis=1), data[\"next_close\"], test_size=0.4, shuffle=False)\n",
    "X_train_fit = pd.DataFrame(scaler.fit_transform(X_train),columns = X_train.columns)\n",
    "X_test_fit = pd.DataFrame(scaler.transform(X_test),columns = X_test.columns)\n",
    "\n",
    "\n",
    "names = []\n",
    "kfold_results = []\n",
    "test_resultsape = []\n",
    "train_resultsape = []\n",
    "\n",
    "for name, model,err in models:\n",
    "    names.append(name)\n",
    "    ## k-fold analysis:\n",
    "    # kfold = KFold(n_splits=num_folds, random_state=seed)\n",
    "    kfold = KFold(n_splits=num_folds)\n",
    "    #converted mean squared error to positive. The lower the better\n",
    "    cv_results = -1* cross_val_score(model, X_train_fit, y_train, cv=kfold, scoring='neg_mean_absolute_percentage_error')\n",
    "    kfold_results.append(cv_results)\n",
    "    # Full Training period\n",
    "    model.fit(X_train_fit, y_train)\n",
    "    train_result_ape = mean_absolute_percentage_error(model.predict(X_train_fit), y_train)\n",
    "    train_resultsape.append(train_result_ape)\n",
    "    # Test results\n",
    "    test_result_ape = mean_absolute_percentage_error(model.predict(X_test_fit), y_test)\n",
    "    test_resultsape.append(test_result_ape)\n",
    "    msg = \"%s: %f (%f) %f %f\" % (name, cv_results.mean(), cv_results.std(), train_result_ape, test_result_ape)\n",
    "    print(msg)\n",
    "res = pd.DataFrame({\"name\" :[x[0] for x in models], \"test_resultsape\":test_resultsape})"
   ]
  },
  {
   "cell_type": "code",
   "execution_count": null,
   "metadata": {
    "id": "fi0DaMCaow9E"
   },
   "outputs": [],
   "source": [
    "minModelapeName = list(res[res[\"test_resultsape\"]==min(res[\"test_resultsape\"])][\"name\"])[0]"
   ]
  },
  {
   "cell_type": "code",
   "execution_count": null,
   "metadata": {
    "id": "VpRzSQl3piWR"
   },
   "outputs": [],
   "source": [
    "# Prediction on real test\n",
    "predictionsape = []\n",
    "for name, model,err in models:\n",
    "  if name == minModelapeName:\n",
    "    predictionsape = model.predict(pd.DataFrame(scaler.transform(used_data_xtest),columns = used_data_xtest.columns))"
   ]
  },
  {
   "cell_type": "code",
   "execution_count": null,
   "metadata": {
    "colab": {
     "base_uri": "https://localhost:8080/",
     "height": 540
    },
    "id": "m96gLBeXt2oA",
    "outputId": "ea7b5145-d2d1-4b78-ed81-a1d343c46ac5"
   },
   "outputs": [
    {
     "data": {
      "image/png": "[encoded data removed]",
      "text/plain": [
       "<Figure size 1080x576 with 1 Axes>"
      ]
     },
     "metadata": {
      "needs_background": "light"
     },
     "output_type": "display_data"
    }
   ],
   "source": [
    "fig = pyplot.figure()\n",
    "fig.suptitle('Algorithm Comparison: Kfold results')\n",
    "ax = fig.add_subplot(111)\n",
    "pyplot.boxplot(kfold_results)\n",
    "ax.set_xticklabels(names)\n",
    "fig.set_size_inches(15,8)\n",
    "pyplot.show()"
   ]
  },
  {
   "cell_type": "markdown",
   "metadata": {
    "id": "oWMVHBVuWJ_d"
   },
   "source": [
    "## Graph prediction"
   ]
  },
  {
   "cell_type": "markdown",
   "metadata": {
    "id": "sJoIfC6BlTXz"
   },
   "source": [
    "mse"
   ]
  },
  {
   "cell_type": "code",
   "execution_count": null,
   "metadata": {
    "colab": {
     "base_uri": "https://localhost:8080/",
     "height": 265
    },
    "id": "JPrjxkU5UQFf",
    "outputId": "92c27c7e-7d4a-4569-f324-668e84be3ce7"
   },
   "outputs": [
    {
     "data": {
      "image/png": "[encoded data removed]",
      "text/plain": [
       "<Figure size 432x288 with 1 Axes>"
      ]
     },
     "metadata": {
      "needs_background": "light"
     },
     "output_type": "display_data"
    }
   ],
   "source": [
    "predictionsmse\n",
    "for i in range(1,len(predictionsmse)):\n",
    "  if predictionsmse[i] < 0:\n",
    "    predictionsmse[i] = 0\n",
    "plt.plot(used_data_ytest.index, predictionsmse, label = \"predicted\")\n",
    "plt.plot(used_data_ytest.index, used_data_ytest, label = \"real\")\n",
    "plt.legend()\n",
    "plt.show()"
   ]
  },
  {
   "cell_type": "markdown",
   "metadata": {
    "id": "76RutGTclfxX"
   },
   "source": [
    "mae"
   ]
  },
  {
   "cell_type": "code",
   "execution_count": null,
   "metadata": {
    "colab": {
     "base_uri": "https://localhost:8080/",
     "height": 265
    },
    "id": "kz38DjWclhCw",
    "outputId": "965a8a1a-09d4-459d-d364-21768fb69940"
   },
   "outputs": [
    {
     "data": {
      "image/png": "[encoded data removed]",
      "text/plain": [
       "<Figure size 432x288 with 1 Axes>"
      ]
     },
     "metadata": {
      "needs_background": "light"
     },
     "output_type": "display_data"
    }
   ],
   "source": [
    "predictionsmae\n",
    "for i in range(1,len(predictionsmae)):\n",
    "  if predictionsmae[i] < 0:\n",
    "    predictionsmae[i] = 0\n",
    "plt.plot(used_data_ytest.index, predictionsmae, label = \"predicted\")\n",
    "plt.plot(used_data_ytest.index, used_data_ytest, label = \"real\")\n",
    "plt.legend()\n",
    "plt.show()"
   ]
  },
  {
   "cell_type": "markdown",
   "metadata": {
    "id": "xo2XYFQfCGjj"
   },
   "source": [
    "ape"
   ]
  },
  {
   "cell_type": "code",
   "execution_count": null,
   "metadata": {
    "colab": {
     "base_uri": "https://localhost:8080/",
     "height": 265
    },
    "id": "E43amnWfpX8j",
    "outputId": "af1623bc-238b-412c-a2d9-3dea4897f4f7"
   },
   "outputs": [
    {
     "data": {
      "image/png": "[encoded data removed]",
      "text/plain": [
       "<Figure size 432x288 with 1 Axes>"
      ]
     },
     "metadata": {
      "needs_background": "light"
     },
     "output_type": "display_data"
    }
   ],
   "source": [
    "predictionsape\n",
    "for i in range(1,len(predictionsape)):\n",
    "  if predictionsmae[i] < 0:\n",
    "    predictionsmae[i] = 0\n",
    "plt.plot(used_data_ytest.index, predictionsape, label = \"predicted\")\n",
    "plt.plot(used_data_ytest.index, used_data_ytest, label = \"real\")\n",
    "plt.legend()\n",
    "plt.show()"
   ]
  },
  {
   "cell_type": "markdown",
   "metadata": {
    "id": "T3TRusk8WOSW"
   },
   "source": [
    "# Multiple Stock"
   ]
  },
  {
   "cell_type": "markdown",
   "metadata": {
    "id": "2TtuDZaXYdxJ"
   },
   "source": [
    "Objective is to for each stock,\n",
    "- get stock name \n",
    "- best model for that stock \n",
    "- error from prediction on test set at second separation\n",
    "- prediction price \n",
    "- real thing (the test set from first separation)\n",
    "\n",
    "Then select 5 with lowest error from prediction on test set at second separation"
   ]
  },
  {
   "cell_type": "markdown",
   "metadata": {
    "id": "HMGaIGyus-Ez"
   },
   "source": [
    "## Params & models\n",
    "\n",
    "Modify values here"
   ]
  },
  {
   "cell_type": "code",
   "execution_count": null,
   "metadata": {
    "id": "0twnD74ZtB_7"
   },
   "outputs": [],
   "source": [
    "import math\n",
    "# params change this to modify the whole thing\n",
    "\n",
    "# For crossvalidation stuff\n",
    "num_folds = 2\n",
    "scoring_mse = \"neg_mean_squared_error\"\n",
    "\n",
    "# For simple trade strategy\n",
    "# Number of stocks to pick minimum error from record\n",
    "nstocks = 5\n",
    "test_size = 0.3\n",
    "\n",
    "\n",
    "# Set model\n",
    "models = []\n",
    "#Do modelName, modelFunc, errorValueTemp\n",
    "models.append(('Linear Regression', LinearRegression(),np.inf))\n",
    "# Boosting methods\n",
    "models.append(('Gradient Boosting Regressor', GradientBoostingRegressor(),np.inf))\n",
    "\n",
    "# Normally ridge would be one model but since it's a model that run fastest\n",
    "models.append(('R1',Ridge(alpha=1),np.inf))\n",
    "models.append(('R0.5',Ridge(alpha=0.5),np.inf))\n",
    "models.append(('R0.2',Ridge(alpha=0.2),np.inf))\n",
    "models.append(('R3',Ridge(alpha=3),np.inf))\n",
    "models.append(('LASSO', Lasso(),np.inf))\n",
    "models.append(('EN',ElasticNet(),np.inf))\n",
    "models.append(('KNN',KNeighborsRegressor(),np.inf))\n",
    "models.append(('CART',DecisionTreeRegressor(),np.inf))\n",
    "models.append(('SVR',SVR(),np.inf))\n",
    "models.append(('MLP',MLPRegressor(),np.inf))\n",
    "# Boosting methods\n",
    "models.append(('ABR',AdaBoostRegressor(),np.inf))\n",
    "models.append(('GBR',GradientBoostingRegressor(),np.inf))\n",
    "# Bagging methods\n",
    "models.append(('RFR',RandomForestRegressor(),np.inf))\n",
    "models.append(('ETR',ExtraTreesRegressor(),np.inf))\n",
    "\n",
    "# Can add Arima here\n"
   ]
  },
  {
   "cell_type": "code",
   "execution_count": null,
   "metadata": {
    "colab": {
     "base_uri": "https://localhost:8080/"
    },
    "id": "Y7Ts4wNkW8Ol",
    "outputId": "f28c1773-cf07-4a53-8926-8486b082bdbe"
   },
   "outputs": [
    {
     "name": "stderr",
     "output_type": "stream",
     "text": [
      "/usr/local/lib/python3.8/dist-packages/sklearn/neural_network/_multilayer_perceptron.py:692: ConvergenceWarning: Stochastic Optimizer: Maximum iterations (200) reached and the optimization hasn't converged yet.\n",
      "  warnings.warn(\n",
      "/usr/local/lib/python3.8/dist-packages/sklearn/neural_network/_multilayer_perceptron.py:692: ConvergenceWarning: Stochastic Optimizer: Maximum iterations (200) reached and the optimization hasn't converged yet.\n",
      "  warnings.warn(\n",
      "/usr/local/lib/python3.8/dist-packages/sklearn/neural_network/_multilayer_perceptron.py:692: ConvergenceWarning: Stochastic Optimizer: Maximum iterations (200) reached and the optimization hasn't converged yet.\n",
      "  warnings.warn(\n",
      "/usr/local/lib/python3.8/dist-packages/sklearn/neural_network/_multilayer_perceptron.py:692: ConvergenceWarning: Stochastic Optimizer: Maximum iterations (200) reached and the optimization hasn't converged yet.\n",
      "  warnings.warn(\n",
      "/usr/local/lib/python3.8/dist-packages/sklearn/neural_network/_multilayer_perceptron.py:692: ConvergenceWarning: Stochastic Optimizer: Maximum iterations (200) reached and the optimization hasn't converged yet.\n",
      "  warnings.warn(\n",
      "/usr/local/lib/python3.8/dist-packages/sklearn/neural_network/_multilayer_perceptron.py:692: ConvergenceWarning: Stochastic Optimizer: Maximum iterations (200) reached and the optimization hasn't converged yet.\n",
      "  warnings.warn(\n",
      "/usr/local/lib/python3.8/dist-packages/sklearn/neural_network/_multilayer_perceptron.py:692: ConvergenceWarning: Stochastic Optimizer: Maximum iterations (200) reached and the optimization hasn't converged yet.\n",
      "  warnings.warn(\n",
      "/usr/local/lib/python3.8/dist-packages/sklearn/neural_network/_multilayer_perceptron.py:692: ConvergenceWarning: Stochastic Optimizer: Maximum iterations (200) reached and the optimization hasn't converged yet.\n",
      "  warnings.warn(\n",
      "/usr/local/lib/python3.8/dist-packages/sklearn/neural_network/_multilayer_perceptron.py:692: ConvergenceWarning: Stochastic Optimizer: Maximum iterations (200) reached and the optimization hasn't converged yet.\n",
      "  warnings.warn(\n",
      "/usr/local/lib/python3.8/dist-packages/sklearn/neural_network/_multilayer_perceptron.py:692: ConvergenceWarning: Stochastic Optimizer: Maximum iterations (200) reached and the optimization hasn't converged yet.\n",
      "  warnings.warn(\n",
      "/usr/local/lib/python3.8/dist-packages/sklearn/neural_network/_multilayer_perceptron.py:692: ConvergenceWarning: Stochastic Optimizer: Maximum iterations (200) reached and the optimization hasn't converged yet.\n",
      "  warnings.warn(\n",
      "/usr/local/lib/python3.8/dist-packages/sklearn/neural_network/_multilayer_perceptron.py:692: ConvergenceWarning: Stochastic Optimizer: Maximum iterations (200) reached and the optimization hasn't converged yet.\n",
      "  warnings.warn(\n",
      "/usr/local/lib/python3.8/dist-packages/sklearn/neural_network/_multilayer_perceptron.py:692: ConvergenceWarning: Stochastic Optimizer: Maximum iterations (200) reached and the optimization hasn't converged yet.\n",
      "  warnings.warn(\n",
      "/usr/local/lib/python3.8/dist-packages/sklearn/neural_network/_multilayer_perceptron.py:692: ConvergenceWarning: Stochastic Optimizer: Maximum iterations (200) reached and the optimization hasn't converged yet.\n",
      "  warnings.warn(\n",
      "/usr/local/lib/python3.8/dist-packages/sklearn/neural_network/_multilayer_perceptron.py:692: ConvergenceWarning: Stochastic Optimizer: Maximum iterations (200) reached and the optimization hasn't converged yet.\n",
      "  warnings.warn(\n",
      "/usr/local/lib/python3.8/dist-packages/sklearn/neural_network/_multilayer_perceptron.py:692: ConvergenceWarning: Stochastic Optimizer: Maximum iterations (200) reached and the optimization hasn't converged yet.\n",
      "  warnings.warn(\n",
      "/usr/local/lib/python3.8/dist-packages/sklearn/neural_network/_multilayer_perceptron.py:692: ConvergenceWarning: Stochastic Optimizer: Maximum iterations (200) reached and the optimization hasn't converged yet.\n",
      "  warnings.warn(\n",
      "/usr/local/lib/python3.8/dist-packages/sklearn/neural_network/_multilayer_perceptron.py:692: ConvergenceWarning: Stochastic Optimizer: Maximum iterations (200) reached and the optimization hasn't converged yet.\n",
      "  warnings.warn(\n",
      "/usr/local/lib/python3.8/dist-packages/sklearn/neural_network/_multilayer_perceptron.py:692: ConvergenceWarning: Stochastic Optimizer: Maximum iterations (200) reached and the optimization hasn't converged yet.\n",
      "  warnings.warn(\n",
      "/usr/local/lib/python3.8/dist-packages/sklearn/neural_network/_multilayer_perceptron.py:692: ConvergenceWarning: Stochastic Optimizer: Maximum iterations (200) reached and the optimization hasn't converged yet.\n",
      "  warnings.warn(\n"
     ]
    }
   ],
   "source": [
    "# Record for all stocks\n",
    "record = {}\n",
    "\n",
    "for stock in stk_tickers:\n",
    "  # Select a stock\n",
    "  pred_stock = stock\n",
    "  # Remove the stock out from concatinating\n",
    "  interested_stock = stk_tickers.copy()\n",
    "  interested_stock.remove(pred_stock)\n",
    "  interested_stock\n",
    "\n",
    "  # Set stock dataframe\n",
    "  temp = pd.DataFrame({\"close\": stk_data.loc[:, ('Adj Close', pred_stock)],\n",
    "  \"open\": stk_data.loc[:, ('Open', pred_stock)],\n",
    "  \"high\" : stk_data.loc[:, ('High', pred_stock)],\n",
    "  \"low\" : stk_data.loc[:, ('Low', pred_stock)],\n",
    "  \"volume\" : stk_data.loc[:, ('Volume', pred_stock)]})\n",
    "  pred_stockDataFrame = StockDataFrame(temp.copy())\n",
    "\n",
    "  for stock in interested_stock:\n",
    "    temp[stock] = pd.DataFrame({stock: stk_data.loc[:, ('Adj Close', stock)]})\n",
    "    \n",
    "  temp['next_close'] = temp['close'].shift(-1)\n",
    "  # Add a feature\n",
    "  temp[\"movement percent\"] = np.where((temp[\"close\"]-temp[\"open\"])==0 , 0,  (temp[\"high\"]-temp[\"low\"])/(temp[\"close\"]-temp[\"open\"]))\n",
    "\n",
    "  temp.drop([\"open\",\"high\",\"low\"],axis=1,inplace=True)\n",
    "\n",
    "  used_data = temp.dropna().copy()\n",
    "\n",
    "  # First separation, one for training and choosing, the other for testing\n",
    "  used_data_xtrain, used_data_xtest, used_data_ytrain, used_data_ytest = train_test_split(used_data.drop(\"next_close\",axis=1), used_data[\"next_close\"], test_size=test_size, shuffle=False)\n",
    "  trainAndEval = pd.concat([used_data_xtrain,used_data_ytrain],axis=1) \n",
    "\n",
    "  # Performing the transformation\n",
    "  data = trainAndEval\n",
    "  # In case we use lasso\n",
    "  scaler = StandardScaler()\n",
    "  X_train, X_test, y_train, y_test = train_test_split(data.drop(\"next_close\",axis=1), data[\"next_close\"], test_size=0.4, shuffle=False)\n",
    "  X_train_fit = pd.DataFrame(scaler.fit_transform(X_train),columns = X_train.columns)\n",
    "  X_test_fit = pd.DataFrame(scaler.transform(X_test),columns = X_test.columns)\n",
    "\n",
    "\n",
    "  names = []\n",
    "  kfold_results = []\n",
    "  test_results = []\n",
    "  train_results = []\n",
    "\n",
    "  for name, model,err in models:\n",
    "      names.append(name)\n",
    "      ## k-fold analysis:\n",
    "      # kfold = KFold(n_splits=num_folds, random_state=seed)\n",
    "      kfold = KFold(n_splits=num_folds)\n",
    "      # converted mean squared error to positive. The lower the better\n",
    "      cv_results = -1* cross_val_score(model, X_train_fit, y_train, cv=kfold, scoring=scoring_mse)\n",
    "      kfold_results.append(cv_results)\n",
    "      # Full Training period\n",
    "      model.fit(X_train_fit, y_train)\n",
    "      train_result = mean_squared_error(model.predict(X_train_fit), y_train)\n",
    "      train_results.append(train_result)\n",
    "      # Test results\n",
    "      test_result = mean_squared_error(model.predict(X_test_fit), y_test)\n",
    "      test_results.append(test_result)\n",
    "  res = pd.DataFrame({\"name\" :[x[0] for x in models], \"test_results\":test_results})\n",
    "  # Get the minimum mean squared error model\n",
    "  minModelName = list(res[res[\"test_results\"]==min(res[\"test_results\"])][\"name\"])[0]\n",
    "  \n",
    "  # Prediction on real test\n",
    "  predictions = []\n",
    "  record_model = None\n",
    "  for name, model,err in models:\n",
    "    if name == minModelName:\n",
    "      predictions = model.predict(pd.DataFrame(scaler.transform(used_data_xtest),columns = used_data_xtest.columns))\n",
    "      \n",
    "      record_model = model\n",
    "  for i in range(1,len(predictions)):\n",
    "    if predictions[i] < 0:\n",
    "      predictions[i] = 0\n",
    "  record[pred_stock] = {\"model_name\":minModelName, \n",
    "                        \"model_func\":record_model,\n",
    "                        \"error\":min(res[\"test_results\"]),\n",
    "                        \"pred\":pd.DataFrame(predictions,index=used_data_ytest.index),\n",
    "                        \"real\":used_data_ytest}"
   ]
  },
  {
   "cell_type": "markdown",
   "metadata": {
    "id": "BVqJFxnXt6bg"
   },
   "source": [
    "## Retrieving stocks"
   ]
  },
  {
   "cell_type": "code",
   "execution_count": null,
   "metadata": {
    "id": "oY2F3rOYsvxs"
   },
   "outputs": [],
   "source": [
    "# Sorted dict based on minimum error\n",
    "# [0: nstocks] means get n number of stocks\n",
    "min_err_list = {}\n",
    "if nstocks < 0:\n",
    "  raise ValueError(\"nstocks must be more than 0, minimum is 1\") \n",
    "elif nstocks > len(record):\n",
    "  min_err_list = record\n",
    "else:\n",
    "  min_err_list=sorted(record.items(),key=lambda x: x[1]['error'],reverse=False)[0:nstocks]"
   ]
  },
  {
   "cell_type": "code",
   "execution_count": null,
   "metadata": {
    "colab": {
     "base_uri": "https://localhost:8080/"
    },
    "id": "f4ff2kPkt9ww",
    "outputId": "78f80807-c0dc-4217-cd6d-d8776f3742b2"
   },
   "outputs": [
    {
     "data": {
      "text/plain": [
       "[('CSCO',\n",
       "  {'model_name': 'Linear Regression',\n",
       "   'model_func': LinearRegression(),\n",
       "   'error': 0.07931467562398557,\n",
       "   'pred':                     0\n",
       "   Date                 \n",
       "   2017-08-07  26.641494\n",
       "   2017-08-08  26.498473\n",
       "   2017-08-09  26.457270\n",
       "   2017-08-10  25.950669\n",
       "   2017-08-11  26.339263\n",
       "   ...               ...\n",
       "   2023-02-21  48.003259\n",
       "   2023-02-22  47.709703\n",
       "   2023-02-23  47.804224\n",
       "   2023-02-24  46.964166\n",
       "   2023-02-27  47.380045\n",
       "   \n",
       "   [1399 rows x 1 columns],\n",
       "   'real': Date\n",
       "   2017-08-07    26.773432\n",
       "   2017-08-08    26.731161\n",
       "   2017-08-09    26.207026\n",
       "   2017-08-10    26.604353\n",
       "   2017-08-11    26.917150\n",
       "                   ...    \n",
       "   2023-02-21    49.310001\n",
       "   2023-02-22    49.209999\n",
       "   2023-02-23    48.480000\n",
       "   2023-02-24    48.730000\n",
       "   2023-02-27    48.419998\n",
       "   Name: next_close, Length: 1399, dtype: float64}),\n",
       " ('AAPL',\n",
       "  {'model_name': 'Linear Regression',\n",
       "   'model_func': LinearRegression(),\n",
       "   'error': 0.12365379211257639,\n",
       "   'pred':                      0\n",
       "   Date                  \n",
       "   2017-08-07   37.218747\n",
       "   2017-08-08   37.517295\n",
       "   2017-08-09   37.748613\n",
       "   2017-08-10   36.550903\n",
       "   2017-08-11   37.056270\n",
       "   ...                ...\n",
       "   2023-02-21  147.472785\n",
       "   2023-02-22  147.235900\n",
       "   2023-02-23  148.408180\n",
       "   2023-02-24  145.737950\n",
       "   2023-02-27  146.828872\n",
       "   \n",
       "   [1399 rows x 1 columns],\n",
       "   'real': Date\n",
       "   2017-08-07     37.712788\n",
       "   2017-08-08     37.943661\n",
       "   2017-08-09     36.735100\n",
       "   2017-08-10     37.245949\n",
       "   2017-08-11     37.806492\n",
       "                    ...    \n",
       "   2023-02-21    148.910004\n",
       "   2023-02-22    149.399994\n",
       "   2023-02-23    146.710007\n",
       "   2023-02-24    147.919998\n",
       "   2023-02-27    147.410004\n",
       "   Name: next_close, Length: 1399, dtype: float64}),\n",
       " ('GOOGL',\n",
       "  {'model_name': 'Linear Regression',\n",
       "   'model_func': LinearRegression(),\n",
       "   'error': 0.177802053806566,\n",
       "   'pred':                     0\n",
       "   Date                 \n",
       "   2017-08-07  47.341529\n",
       "   2017-08-08  47.271587\n",
       "   2017-08-09  47.055796\n",
       "   2017-08-10  46.225686\n",
       "   2017-08-11  46.550163\n",
       "   ...               ...\n",
       "   2023-02-21  90.946023\n",
       "   2023-02-22  90.833034\n",
       "   2023-02-23  90.051124\n",
       "   2023-02-24  88.316600\n",
       "   2023-02-27  89.048253\n",
       "   \n",
       "   [1399 rows x 1 columns],\n",
       "   'real': Date\n",
       "   2017-08-07    47.209499\n",
       "   2017-08-08    47.004002\n",
       "   2017-08-09    46.179501\n",
       "   2017-08-10    46.504501\n",
       "   2017-08-11    46.946499\n",
       "                   ...    \n",
       "   2023-02-21    91.650002\n",
       "   2023-02-22    90.889999\n",
       "   2023-02-23    89.129997\n",
       "   2023-02-24    89.870003\n",
       "   2023-02-27    90.059998\n",
       "   Name: next_close, Length: 1399, dtype: float64}),\n",
       " ('AMZN',\n",
       "  {'model_name': 'Linear Regression',\n",
       "   'model_func': LinearRegression(),\n",
       "   'error': 0.22810571480116726,\n",
       "   'pred':                     0\n",
       "   Date                 \n",
       "   2017-08-07  49.242454\n",
       "   2017-08-08  49.124322\n",
       "   2017-08-09  48.740716\n",
       "   2017-08-10  47.489207\n",
       "   2017-08-11  48.038026\n",
       "   ...               ...\n",
       "   2023-02-21  94.082565\n",
       "   2023-02-22  95.287457\n",
       "   2023-02-23  95.312748\n",
       "   2023-02-24  93.016107\n",
       "   2023-02-27  93.274087\n",
       "   \n",
       "   [1399 rows x 1 columns],\n",
       "   'real': Date\n",
       "   2017-08-07    49.492001\n",
       "   2017-08-08    49.100498\n",
       "   2017-08-09    47.846001\n",
       "   2017-08-10    48.399502\n",
       "   2017-08-11    49.165001\n",
       "                   ...    \n",
       "   2023-02-21    95.790001\n",
       "   2023-02-22    95.820000\n",
       "   2023-02-23    93.500000\n",
       "   2023-02-24    93.760002\n",
       "   2023-02-27    94.230003\n",
       "   Name: next_close, Length: 1399, dtype: float64}),\n",
       " ('MSFT',\n",
       "  {'model_name': 'R3',\n",
       "   'model_func': Ridge(alpha=3),\n",
       "   'error': 0.45070955754494896,\n",
       "   'pred':                      0\n",
       "   Date                  \n",
       "   2017-08-07   66.529491\n",
       "   2017-08-08   66.770603\n",
       "   2017-08-09   66.612497\n",
       "   2017-08-10   65.606586\n",
       "   2017-08-11   66.491173\n",
       "   ...                ...\n",
       "   2023-02-21  246.539020\n",
       "   2023-02-22  245.754904\n",
       "   2023-02-23  245.197867\n",
       "   2023-02-24  242.146291\n",
       "   2023-02-27  244.460095\n",
       "   \n",
       "   [1399 rows x 1 columns],\n",
       "   'real': Date\n",
       "   2017-08-07     67.673927\n",
       "   2017-08-08     67.376404\n",
       "   2017-08-09     66.390923\n",
       "   2017-08-10     67.404320\n",
       "   2017-08-11     68.417717\n",
       "                    ...    \n",
       "   2023-02-21    251.509995\n",
       "   2023-02-22    254.770004\n",
       "   2023-02-23    249.220001\n",
       "   2023-02-24    250.160004\n",
       "   2023-02-27    249.419998\n",
       "   Name: next_close, Length: 1399, dtype: float64})]"
      ]
     },
     "execution_count": 325,
     "metadata": {},
     "output_type": "execute_result"
    }
   ],
   "source": [
    "min_err_list"
   ]
  },
  {
   "cell_type": "markdown",
   "metadata": {
    "id": "Gr6lRKw8uL1A"
   },
   "source": [
    "# A bunch of trade strategy\n",
    "\n"
   ]
  },
  {
   "cell_type": "markdown",
   "metadata": {
    "id": "-ph_InQb2PTO"
   },
   "source": [
    "### trade params\n",
    "\n",
    "Modify here to change starting value and result of trade strategy"
   ]
  },
  {
   "cell_type": "code",
   "execution_count": null,
   "metadata": {
    "id": "zetZ8xqS2Qxg"
   },
   "outputs": [],
   "source": [
    "#starting cash\n",
    "cash = 10000\n",
    "#transaction cost\n",
    "transac = 0.002\n",
    "#days to hold\n",
    "hold_days = 5\n",
    "#new params for rebalance strategy\n",
    "rebal_days = 20"
   ]
  },
  {
   "cell_type": "markdown",
   "metadata": {
    "id": "G2gCW2GdyZKh"
   },
   "source": [
    "### Equally weighted\n",
    "\n",
    "When more than half of the prediction in n number nstocks goes up, we buy all of them equally. \n",
    "We start with cash of 10,000. \n",
    "So if we have two stocks at price 70 and 80, We buy 10000/2/70 and 10000/2/80 amount.\n",
    "\n",
    "We then hold it for 5 days (1 week of trading month)\n"
   ]
  },
  {
   "cell_type": "markdown",
   "metadata": {
    "id": "FQSuxzZrOFgE"
   },
   "source": [
    "#### Set up"
   ]
  },
  {
   "cell_type": "code",
   "execution_count": null,
   "metadata": {
    "id": "vlxGvFtGxEYC"
   },
   "outputs": [],
   "source": [
    "n_decision = math.ceil(nstocks/2.0)\n",
    "cash = 10000\n",
    "stock_pos = [0]*nstocks\n",
    "starting_cash = cash \n",
    "hold_days = 5\n",
    "days = hold_days\n",
    "#transaction cost\n",
    "transac = 0.002\n",
    "#Cash money\n",
    "money_record = [0]* len(min_err_list[0][1][\"real\"].index)\n",
    "holding = False"
   ]
  },
  {
   "cell_type": "code",
   "execution_count": null,
   "metadata": {
    "id": "Q56T4AuJuVeV"
   },
   "outputs": [],
   "source": [
    "idx = 0\n",
    "for i in range(0,len(min_err_list[0][1][\"real\"].index)):\n",
    "  pred = np.array([0.0]*nstocks)\n",
    "  real = np.array([0.0]*nstocks)\n",
    "  for j in range(0,len(min_err_list)):\n",
    "    stockInfo = min_err_list[j][1]\n",
    "    pred[j] = stockInfo[\"pred\"].iloc[i,0]\n",
    "\n",
    "    real[j] = stockInfo[\"real\"][i]\n",
    "  # number where prediction up i\n",
    "  pred_up = (sum(pred>real))\n",
    "  if (not holding) & (pred_up >=n_decision):\n",
    "    holding = True \n",
    "    # position array\n",
    "    stock_pos = np.array([starting_cash*(1-transac)]*nstocks)/nstocks / real\n",
    "    money_record[i] = sum(stock_pos*real)\n",
    "    # print(\"buy\")\n",
    "    # print(sum(stock_pos*real))\n",
    "    \n",
    "  elif holding:\n",
    "    # value of portfolio\n",
    "    # print(\"hold\")\n",
    "    money_record[i] = sum(stock_pos*real)\n",
    "    days = days-1\n",
    "    # if days to hold is 0, we sell\n",
    "    if days == 0 :\n",
    "      #print(\"sell and cash\")\n",
    "      holding = False\n",
    "      days = hold_days\n",
    "\n",
    "      starting_cash = sum(stock_pos*real)*(1-transac)\n",
    "      #print(starting_cash)\n",
    "      stock_pos = [0]*nstocks\n",
    "  else :\n",
    "    money_record[i] = starting_cash\n"
   ]
  },
  {
   "cell_type": "markdown",
   "metadata": {
    "id": "VZLIGBSABqLk"
   },
   "source": [
    "#### Result"
   ]
  },
  {
   "cell_type": "code",
   "execution_count": null,
   "metadata": {
    "colab": {
     "base_uri": "https://localhost:8080/",
     "height": 282
    },
    "id": "xkM0UdlCxzuc",
    "outputId": "1562c3a7-2a71-49f2-a493-77b5e7606f59"
   },
   "outputs": [
    {
     "data": {
      "text/plain": [
       "<matplotlib.legend.Legend at 0x7f291e01d220>"
      ]
     },
     "execution_count": 329,
     "metadata": {},
     "output_type": "execute_result"
    },
    {
     "data": {
      "image/png": "[encoded data removed]",
      "text/plain": [
       "<Figure size 432x288 with 1 Axes>"
      ]
     },
     "metadata": {
      "needs_background": "light"
     },
     "output_type": "display_data"
    }
   ],
   "source": [
    "# plt.plot(money_record, label=\"cash\")\n",
    "profit = (np.array(money_record)-cash).tolist()\n",
    "plt.plot(profit, label=\"profit\")\n",
    "plt.legend()"
   ]
  },
  {
   "cell_type": "markdown",
   "metadata": {
    "id": "4qOTDaxj8j3X"
   },
   "source": [
    "### Indicator on one stock\n",
    "\n",
    "Choose the minimum error stock, throw in a bunch of indicator and trade according to indicator"
   ]
  },
  {
   "cell_type": "code",
   "execution_count": null,
   "metadata": {
    "colab": {
     "base_uri": "https://localhost:8080/",
     "height": 35
    },
    "id": "_6W1JuZ89Cal",
    "outputId": "50593aaf-a8f5-4941-de69-1e5bbf77e528"
   },
   "outputs": [
    {
     "data": {
      "application/vnd.google.colaboratory.intrinsic+json": {
       "type": "string"
      },
      "text/plain": [
       "'CSCO'"
      ]
     },
     "execution_count": 330,
     "metadata": {},
     "output_type": "execute_result"
    }
   ],
   "source": [
    "# First minimum error stock\n",
    "min_err_list[0][0]"
   ]
  },
  {
   "cell_type": "markdown",
   "metadata": {
    "id": "JG2-rQZ8_1r8"
   },
   "source": [
    "#### Setting up"
   ]
  },
  {
   "cell_type": "code",
   "execution_count": null,
   "metadata": {
    "id": "2yl7Cp-f8mYW"
   },
   "outputs": [],
   "source": [
    "# Record for all stocks\n",
    "record = {}\n",
    "# Select a stock\n",
    "pred_stock = min_err_list[0][0]\n",
    "# Remove the stock out from concatinating\n",
    "interested_stock = stk_tickers.copy()\n",
    "interested_stock.remove(pred_stock)\n",
    "interested_stock\n",
    "\n",
    "# Set stock dataframe\n",
    "temp = pd.DataFrame({\"close\": stk_data.loc[:, ('Adj Close', pred_stock)],\n",
    "\"open\": stk_data.loc[:, ('Open', pred_stock)],\n",
    "\"high\" : stk_data.loc[:, ('High', pred_stock)],\n",
    "\"low\" : stk_data.loc[:, ('Low', pred_stock)],\n",
    "\"volume\" : stk_data.loc[:, ('Volume', pred_stock)]})\n",
    "pred_stockDataFrame = StockDataFrame(temp.copy())\n",
    "\n",
    "for stock in interested_stock:\n",
    "  temp[stock] = pd.DataFrame({stock: stk_data.loc[:, ('Adj Close', stock)]})\n",
    "  \n",
    "temp['next_close'] = temp['close'].shift(-1)\n",
    "# Add a feature\n",
    "temp[\"movement percent\"] = np.where((temp[\"close\"]-temp[\"open\"])==0 , 0,  (temp[\"high\"]-temp[\"low\"])/(temp[\"close\"]-temp[\"open\"]))\n",
    "\n",
    "\n",
    "used_data = temp.dropna().copy()\n",
    "\n",
    "temp = pd.DataFrame({\"close\": used_data[\"close\"],\n",
    "\"open\": used_data[\"open\"],\n",
    "\"high\" : used_data[\"high\"],\n",
    "\"low\" : used_data[\"low\"],\n",
    "\"volume\" : used_data[\"volume\"]})\n",
    "pred_stockDataFrame = StockDataFrame(temp.copy())\n",
    "pred_stockDataFrame.dropna(inplace=True)\n",
    "\n",
    "indicatorFrame = pd.DataFrame()\n",
    "# In MACD the longer it stays above 0 the better\n",
    "# gt is greather than\n",
    "a = pred_stockDataFrame['macd'].gt(0)\n",
    "b = a.cumsum()\n",
    "indicatorFrame['macd_over_0_days'] = b-b.mask(a).ffill().fillna(0).astype(int)\n",
    "\n",
    "\n",
    "# RSI more than 70 is good less than 30 is bad\n",
    "indicatorFrame[\"RSI_70\"]=pred_stockDataFrame['rsi_12'].gt(70).astype(int)\n",
    "\n",
    "indicatorFrame[\"RSI_30\"]=pred_stockDataFrame['rsi_12'].lt(70).astype(int)\n",
    "\n",
    "# Buy and sell signal from SMA\n",
    "# Cross up is buy\n",
    "indicatorFrame[\"SMA_cross_up\"] = pred_stockDataFrame['close_50_sma_xd_close_20_sma'].astype(int)\n",
    "\n",
    "# Crossover Sell using sma\n",
    "indicatorFrame[\"SMA_cross_down\"] = pred_stockDataFrame['close_20_sma_xd_close_50_sma'].astype(int)\n",
    "# OBV open balance volume\n",
    "# A rising trend should be accompanied by increasing volume\n",
    "indicatorFrame[\"vol_delta\"] = pred_stockDataFrame['volume_delta'].dropna().astype(int)\n",
    "a = indicatorFrame['vol_delta'].gt(0)\n",
    "b = a.cumsum()\n",
    "indicatorFrame['vol_delta_sum'] = b-b.mask(a).ffill().fillna(0).astype(int)\n",
    "\n",
    "# Bollinger band controls how high the stock should be \n",
    "indicatorFrame['bb_up'] = pred_stockDataFrame['boll_ub']>pred_stockDataFrame[\"high\"].astype(int)\n",
    "\n",
    "indicatorFrame['bb_down'] = pred_stockDataFrame['boll_lb']>pred_stockDataFrame[\"low\"].astype(int)\n",
    "indicatorFrame.dropna(inplace = True)\n",
    "\n",
    "return_period = 1\n",
    "Y = np.log(stk_data.loc[:, ('Adj Close', pred_stock)]).diff(return_period).\\\n",
    "shift(-return_period)\n",
    "#If stock will go up in one day\n",
    "# If difference is 0, convention is to consider it goes up\n",
    "up_data = pd.DataFrame()\n",
    "up_data[\"1_day\"] =temp[\"close\"].diff(1).shift(-1).dropna().ge(0).astype(int)\n",
    "up_data[\"5_day\"] =temp[\"close\"].diff(5).shift(-5).dropna().ge(0).astype(int)\n",
    "\n",
    "up_data.dropna(inplace= True)\n",
    "up_data.head()\n",
    "\n",
    "usedData = pd.concat([up_data,indicatorFrame],axis=1)\n",
    "usedData.dropna(inplace=True)\n",
    "\n"
   ]
  },
  {
   "cell_type": "markdown",
   "metadata": {
    "id": "esi_ozp-Jdjn"
   },
   "source": [
    "#### Machine learning part"
   ]
  },
  {
   "cell_type": "code",
   "execution_count": null,
   "metadata": {
    "colab": {
     "base_uri": "https://localhost:8080/",
     "height": 331
    },
    "id": "KoV0tEza-1zZ",
    "outputId": "357d7211-38a1-49e7-8e31-f5408317713a"
   },
   "outputs": [
    {
     "data": {
      "text/html": [
       "\n",
       "  <div id=\"df-19e11a58-0f57-453e-9bd3-ae884495ecfc\">\n",
       "    <div class=\"colab-df-container\">\n",
       "      <div>\n",
       "<style scoped>\n",
       "    .dataframe tbody tr th:only-of-type {\n",
       "        vertical-align: middle;\n",
       "    }\n",
       "\n",
       "    .dataframe tbody tr th {\n",
       "        vertical-align: top;\n",
       "    }\n",
       "\n",
       "    .dataframe thead th {\n",
       "        text-align: right;\n",
       "    }\n",
       "</style>\n",
       "<table border=\"1\" class=\"dataframe\">\n",
       "  <thead>\n",
       "    <tr style=\"text-align: right;\">\n",
       "      <th></th>\n",
       "      <th>name</th>\n",
       "      <th>val</th>\n",
       "    </tr>\n",
       "  </thead>\n",
       "  <tbody>\n",
       "    <tr>\n",
       "      <th>0</th>\n",
       "      <td>macd_over_0_days</td>\n",
       "      <td>0.218984</td>\n",
       "    </tr>\n",
       "    <tr>\n",
       "      <th>1</th>\n",
       "      <td>RSI_70</td>\n",
       "      <td>0.006543</td>\n",
       "    </tr>\n",
       "    <tr>\n",
       "      <th>2</th>\n",
       "      <td>RSI_30</td>\n",
       "      <td>0.004124</td>\n",
       "    </tr>\n",
       "    <tr>\n",
       "      <th>3</th>\n",
       "      <td>SMA_cross_up</td>\n",
       "      <td>0.002977</td>\n",
       "    </tr>\n",
       "    <tr>\n",
       "      <th>4</th>\n",
       "      <td>SMA_cross_down</td>\n",
       "      <td>0.003405</td>\n",
       "    </tr>\n",
       "    <tr>\n",
       "      <th>5</th>\n",
       "      <td>vol_delta</td>\n",
       "      <td>0.736263</td>\n",
       "    </tr>\n",
       "    <tr>\n",
       "      <th>6</th>\n",
       "      <td>vol_delta_sum</td>\n",
       "      <td>0.027177</td>\n",
       "    </tr>\n",
       "    <tr>\n",
       "      <th>7</th>\n",
       "      <td>bb_up</td>\n",
       "      <td>0.000527</td>\n",
       "    </tr>\n",
       "    <tr>\n",
       "      <th>8</th>\n",
       "      <td>bb_down</td>\n",
       "      <td>0.000000</td>\n",
       "    </tr>\n",
       "  </tbody>\n",
       "</table>\n",
       "</div>\n",
       "      <button class=\"colab-df-convert\" onclick=\"convertToInteractive('df-19e11a58-0f57-453e-9bd3-ae884495ecfc')\"\n",
       "              title=\"Convert this dataframe to an interactive table.\"\n",
       "              style=\"display:none;\">\n",
       "        \n",
       "  <svg xmlns=\"http://www.w3.org/2000/svg\" height=\"24px\"viewBox=\"0 0 24 24\"\n",
       "       width=\"24px\">\n",
       "    <path d=\"M0 0h24v24H0V0z\" fill=\"none\"/>\n",
       "    <path d=\"M18.56 5.44l.94 2.06.94-2.06 2.06-.94-2.06-.94-.94-2.06-.94 2.06-2.06.94zm-11 1L8.5 8.5l.94-2.06 2.06-.94-2.06-.94L8.5 2.5l-.94 2.06-2.06.94zm10 10l.94 2.06.94-2.06 2.06-.94-2.06-.94-.94-2.06-.94 2.06-2.06.94z\"/><path d=\"M17.41 7.96l-1.37-1.37c-.4-.4-.92-.59-1.43-.59-.52 0-1.04.2-1.43.59L10.3 9.45l-7.72 7.72c-.78.78-.78 2.05 0 2.83L4 21.41c.39.39.9.59 1.41.59.51 0 1.02-.2 1.41-.59l7.78-7.78 2.81-2.81c.8-.78.8-2.07 0-2.86zM5.41 20L4 18.59l7.72-7.72 1.47 1.35L5.41 20z\"/>\n",
       "  </svg>\n",
       "      </button>\n",
       "      \n",
       "  <style>\n",
       "    .colab-df-container {\n",
       "      display:flex;\n",
       "      flex-wrap:wrap;\n",
       "      gap: 12px;\n",
       "    }\n",
       "\n",
       "    .colab-df-convert {\n",
       "      background-color: #E8F0FE;\n",
       "      border: none;\n",
       "      border-radius: 50%;\n",
       "      cursor: pointer;\n",
       "      display: none;\n",
       "      fill: #1967D2;\n",
       "      height: 32px;\n",
       "      padding: 0 0 0 0;\n",
       "      width: 32px;\n",
       "    }\n",
       "\n",
       "    .colab-df-convert:hover {\n",
       "      background-color: #E2EBFA;\n",
       "      box-shadow: 0px 1px 2px rgba(60, 64, 67, 0.3), 0px 1px 3px 1px rgba(60, 64, 67, 0.15);\n",
       "      fill: #174EA6;\n",
       "    }\n",
       "\n",
       "    [theme=dark] .colab-df-convert {\n",
       "      background-color: #3B4455;\n",
       "      fill: #D2E3FC;\n",
       "    }\n",
       "\n",
       "    [theme=dark] .colab-df-convert:hover {\n",
       "      background-color: #434B5C;\n",
       "      box-shadow: 0px 1px 3px 1px rgba(0, 0, 0, 0.15);\n",
       "      filter: drop-shadow(0px 1px 2px rgba(0, 0, 0, 0.3));\n",
       "      fill: #FFFFFF;\n",
       "    }\n",
       "  </style>\n",
       "\n",
       "      <script>\n",
       "        const buttonEl =\n",
       "          document.querySelector('#df-19e11a58-0f57-453e-9bd3-ae884495ecfc button.colab-df-convert');\n",
       "        buttonEl.style.display =\n",
       "          google.colab.kernel.accessAllowed ? 'block' : 'none';\n",
       "\n",
       "        async function convertToInteractive(key) {\n",
       "          const element = document.querySelector('#df-19e11a58-0f57-453e-9bd3-ae884495ecfc');\n",
       "          const dataTable =\n",
       "            await google.colab.kernel.invokeFunction('convertToInteractive',\n",
       "                                                     [key], {});\n",
       "          if (!dataTable) return;\n",
       "\n",
       "          const docLinkHtml = 'Like what you see? Visit the ' +\n",
       "            '<a target=\"_blank\" href=https://colab.research.google.com/notebooks/data_table.ipynb>data table notebook</a>'\n",
       "            + ' to learn more about interactive tables.';\n",
       "          element.innerHTML = '';\n",
       "          dataTable['output_type'] = 'display_data';\n",
       "          await google.colab.output.renderOutput(dataTable, element);\n",
       "          const docLink = document.createElement('div');\n",
       "          docLink.innerHTML = docLinkHtml;\n",
       "          element.appendChild(docLink);\n",
       "        }\n",
       "      </script>\n",
       "    </div>\n",
       "  </div>\n",
       "  "
      ],
      "text/plain": [
       "               name       val\n",
       "0  macd_over_0_days  0.218984\n",
       "1            RSI_70  0.006543\n",
       "2            RSI_30  0.004124\n",
       "3      SMA_cross_up  0.002977\n",
       "4    SMA_cross_down  0.003405\n",
       "5         vol_delta  0.736263\n",
       "6     vol_delta_sum  0.027177\n",
       "7             bb_up  0.000527\n",
       "8           bb_down  0.000000"
      ]
     },
     "execution_count": 332,
     "metadata": {},
     "output_type": "execute_result"
    }
   ],
   "source": [
    "from sklearn.tree import DecisionTreeClassifier\n",
    "\n",
    "clf_1_day = DecisionTreeClassifier(random_state=0)\n",
    "X_train, X_test, y_train, y_test = train_test_split(usedData[indicatorFrame.columns], usedData[up_data.columns], test_size=test_size, shuffle=False)\n",
    "\n",
    "clf_1_day.fit(X_train, y_train[\"1_day\"])\n",
    "\n",
    "clf_5_day = DecisionTreeClassifier(random_state=0)\n",
    "\n",
    "clf_5_day.fit(X_train, y_train[\"5_day\"])\n",
    "\n",
    "pd.DataFrame({\"name\":clf_1_day.feature_names_in_, \" val\":clf_1_day.feature_importances_})"
   ]
  },
  {
   "cell_type": "code",
   "execution_count": null,
   "metadata": {
    "colab": {
     "base_uri": "https://localhost:8080/"
    },
    "id": "Et73HMZJ9TJX",
    "outputId": "bf372131-8ff7-4f9a-d600-4fce9e621d03"
   },
   "outputs": [
    {
     "name": "stdout",
     "output_type": "stream",
     "text": [
      "              precision    recall  f1-score   support\n",
      "\n",
      "         0.0       0.51      0.47      0.49       709\n",
      "         1.0       0.49      0.53      0.51       689\n",
      "\n",
      "    accuracy                           0.50      1398\n",
      "   macro avg       0.50      0.50      0.50      1398\n",
      "weighted avg       0.50      0.50      0.50      1398\n",
      "\n",
      "              precision    recall  f1-score   support\n",
      "\n",
      "         0.0       0.47      0.42      0.44       659\n",
      "         1.0       0.53      0.58      0.55       739\n",
      "\n",
      "    accuracy                           0.50      1398\n",
      "   macro avg       0.50      0.50      0.50      1398\n",
      "weighted avg       0.50      0.50      0.50      1398\n",
      "\n"
     ]
    }
   ],
   "source": [
    "from sklearn.metrics import classification_report\n",
    "# Basically using a lot of indicators mean we are correct half of the time\n",
    "# From this result\n",
    "# Can try with different time period\n",
    "print(classification_report(clf_1_day.predict(X_test),y_test[\"1_day\"]))\n",
    "print(classification_report(clf_5_day.predict(X_test),y_test[\"5_day\"]))\n"
   ]
  },
  {
   "cell_type": "markdown",
   "metadata": {
    "id": "XhrHjeAEAUI5"
   },
   "source": [
    "#### Performing trade"
   ]
  },
  {
   "cell_type": "code",
   "execution_count": null,
   "metadata": {
    "colab": {
     "base_uri": "https://localhost:8080/"
    },
    "id": "RUwkKKCz_aMi",
    "outputId": "ac805fd4-908a-4c97-c64f-c7c26062a39c"
   },
   "outputs": [
    {
     "name": "stderr",
     "output_type": "stream",
     "text": [
      "<ipython-input-334-e2cd8ecf16b7>:2: FutureWarning: In a future version, object-dtype columns with all-bool values will not be included in reductions with bool_only=True. Explicitly cast to bool dtype instead.\n",
      "  eval_profit = pd.concat([temp,X_test],axis=1).dropna()\n"
     ]
    }
   ],
   "source": [
    "# A very manual way of evaluation profit of the strategy\n",
    "eval_profit = pd.concat([temp,X_test],axis=1).dropna()\n",
    "# Whether we hold a stock\n",
    "hold = False\n",
    "#Net Profit\n",
    "# Let's make it array so we can keep track of profit\n",
    "money_rec_single = [0] * len(eval_profit)\n",
    "pos = 0 \n",
    "starting_cash = cash \n",
    "#Transaction Percent\n",
    "transac_percent = transac\n",
    "# num of days to hold\n",
    "hold_days = hold_days\n",
    "# leftover days\n",
    "days = hold_days\n",
    "idx = 0\n",
    "for index, row in eval_profit.iterrows():\n",
    "  # Obtain prediction\n",
    "  day_1_up_pred = clf_1_day.predict(pd.DataFrame(row[indicatorFrame.columns]).transpose())[0]\n",
    "  day_5_up_pred = clf_5_day.predict(pd.DataFrame(row[indicatorFrame.columns]).transpose())[0]\n",
    "  # If both prediction says up and we are not holding\n",
    "  if (day_1_up_pred>0) & (day_5_up_pred>0) & (not hold):\n",
    "    hold = True\n",
    "    #Let's buy when market close\n",
    "\n",
    "    pos = (1-transac_percent)*starting_cash/row[\"close\"]\n",
    "    money_rec_single[idx] = pos*row[\"close\"]\n",
    "  # If we are holding then we countdown days to sell\n",
    "  elif hold:\n",
    "    days = days -1\n",
    "    money_rec_single[idx] = pos*row[\"close\"]\n",
    "    #if days is 0 we sell\n",
    "    if days ==0:\n",
    "      #Sell stocks\n",
    "      # Reset conditions\n",
    "      starting_cash = pos*row[\"close\"]\n",
    "      days=hold_days\n",
    "      hold = False\n",
    "      pos = 0\n",
    "  else:\n",
    "     money_rec_single[idx] = starting_cash\n",
    "\n",
    "  \n",
    "  idx+=1"
   ]
  },
  {
   "cell_type": "markdown",
   "metadata": {
    "id": "z0G3PsODBv1X"
   },
   "source": [
    "#### Result"
   ]
  },
  {
   "cell_type": "code",
   "execution_count": null,
   "metadata": {
    "colab": {
     "base_uri": "https://localhost:8080/",
     "height": 284
    },
    "id": "nBu3iQl5_c8a",
    "outputId": "6e4437ee-a81f-4dec-946b-8e2ded5d2863"
   },
   "outputs": [
    {
     "data": {
      "text/plain": [
       "<matplotlib.legend.Legend at 0x7f291efe68b0>"
      ]
     },
     "execution_count": 335,
     "metadata": {},
     "output_type": "execute_result"
    },
    {
     "data": {
      "image/png": "[encoded data removed]",
      "text/plain": [
       "<Figure size 432x288 with 1 Axes>"
      ]
     },
     "metadata": {
      "needs_background": "light"
     },
     "output_type": "display_data"
    }
   ],
   "source": [
    "#plt.plot(money_rec_single)\n",
    "#plt.plot(money_rec_single, label=\"cash\")\n",
    "profit_single = (np.array(money_rec_single)-cash).tolist()\n",
    "plt.plot(profit_single, label=\"profit\")\n",
    "plt.legend()"
   ]
  },
  {
   "cell_type": "markdown",
   "metadata": {
    "id": "LAGyxBTZB0JS"
   },
   "source": [
    "### Adding external factors\n",
    "\n",
    "Let's go back to our equally weighted portfolio \n",
    "but add oil, gold and S&P 500 as predictor\n",
    "\n",
    "We modify our strategy by using S&P 500 prediction as well\n",
    "\n",
    "So now half of stocks must be predicted up, and S&P in 1 and 5 days also needs to be up.\n",
    "\n",
    "To predict S&P, we use S&P itself, oil and gold"
   ]
  },
  {
   "cell_type": "markdown",
   "metadata": {
    "id": "qyLAdDs0Mo1P"
   },
   "source": [
    "#### Data"
   ]
  },
  {
   "cell_type": "code",
   "execution_count": null,
   "metadata": {
    "colab": {
     "base_uri": "https://localhost:8080/"
    },
    "id": "W6HvmQVNB3f9",
    "outputId": "31dfadd2-1c8a-40bf-fb10-9266dc07fcdc"
   },
   "outputs": [
    {
     "name": "stdout",
     "output_type": "stream",
     "text": [
      "Drive already mounted at /content/drive; to attempt to forcibly remount, call drive.mount(\"/content/drive\", force_remount=True).\n"
     ]
    }
   ],
   "source": [
    "from google.colab import drive\n",
    "\n",
    "drive.mount(\"/content/drive\")\n",
    "\n",
    "path = \"drive/MyDrive/brent-daily_csv.csv\"\n",
    "df_bonus = pd.read_csv(path)\n",
    "\n",
    "#and do same thing\n",
    "df_bonus.set_index(pd.to_datetime(df_bonus[\"Date\"]),inplace=True)"
   ]
  },
  {
   "cell_type": "code",
   "execution_count": null,
   "metadata": {
    "colab": {
     "base_uri": "https://localhost:8080/",
     "height": 455
    },
    "id": "BX9zXK-KGddX",
    "outputId": "0c42a1cc-0efd-49af-bcd7-e6941278f708"
   },
   "outputs": [
    {
     "data": {
      "text/html": [
       "\n",
       "  <div id=\"df-7a843438-1b2d-42bc-a7fb-5b450d28de54\">\n",
       "    <div class=\"colab-df-container\">\n",
       "      <div>\n",
       "<style scoped>\n",
       "    .dataframe tbody tr th:only-of-type {\n",
       "        vertical-align: middle;\n",
       "    }\n",
       "\n",
       "    .dataframe tbody tr th {\n",
       "        vertical-align: top;\n",
       "    }\n",
       "\n",
       "    .dataframe thead th {\n",
       "        text-align: right;\n",
       "    }\n",
       "</style>\n",
       "<table border=\"1\" class=\"dataframe\">\n",
       "  <thead>\n",
       "    <tr style=\"text-align: right;\">\n",
       "      <th></th>\n",
       "      <th>Date</th>\n",
       "      <th>Price</th>\n",
       "    </tr>\n",
       "    <tr>\n",
       "      <th>Date</th>\n",
       "      <th></th>\n",
       "      <th></th>\n",
       "    </tr>\n",
       "  </thead>\n",
       "  <tbody>\n",
       "    <tr>\n",
       "      <th>1987-05-20</th>\n",
       "      <td>1987-05-20</td>\n",
       "      <td>18.63</td>\n",
       "    </tr>\n",
       "    <tr>\n",
       "      <th>1987-05-21</th>\n",
       "      <td>1987-05-21</td>\n",
       "      <td>18.45</td>\n",
       "    </tr>\n",
       "    <tr>\n",
       "      <th>1987-05-22</th>\n",
       "      <td>1987-05-22</td>\n",
       "      <td>18.55</td>\n",
       "    </tr>\n",
       "    <tr>\n",
       "      <th>1987-05-25</th>\n",
       "      <td>1987-05-25</td>\n",
       "      <td>18.60</td>\n",
       "    </tr>\n",
       "    <tr>\n",
       "      <th>1987-05-26</th>\n",
       "      <td>1987-05-26</td>\n",
       "      <td>18.63</td>\n",
       "    </tr>\n",
       "    <tr>\n",
       "      <th>...</th>\n",
       "      <td>...</td>\n",
       "      <td>...</td>\n",
       "    </tr>\n",
       "    <tr>\n",
       "      <th>2023-02-15</th>\n",
       "      <td>2023-02-15</td>\n",
       "      <td>84.11</td>\n",
       "    </tr>\n",
       "    <tr>\n",
       "      <th>2023-02-16</th>\n",
       "      <td>2023-02-16</td>\n",
       "      <td>83.84</td>\n",
       "    </tr>\n",
       "    <tr>\n",
       "      <th>2023-02-17</th>\n",
       "      <td>2023-02-17</td>\n",
       "      <td>81.97</td>\n",
       "    </tr>\n",
       "    <tr>\n",
       "      <th>2023-02-20</th>\n",
       "      <td>2023-02-20</td>\n",
       "      <td>82.79</td>\n",
       "    </tr>\n",
       "    <tr>\n",
       "      <th>2023-02-21</th>\n",
       "      <td>2023-02-21</td>\n",
       "      <td>82.14</td>\n",
       "    </tr>\n",
       "  </tbody>\n",
       "</table>\n",
       "<p>9077 rows × 2 columns</p>\n",
       "</div>\n",
       "      <button class=\"colab-df-convert\" onclick=\"convertToInteractive('df-7a843438-1b2d-42bc-a7fb-5b450d28de54')\"\n",
       "              title=\"Convert this dataframe to an interactive table.\"\n",
       "              style=\"display:none;\">\n",
       "        \n",
       "  <svg xmlns=\"http://www.w3.org/2000/svg\" height=\"24px\"viewBox=\"0 0 24 24\"\n",
       "       width=\"24px\">\n",
       "    <path d=\"M0 0h24v24H0V0z\" fill=\"none\"/>\n",
       "    <path d=\"M18.56 5.44l.94 2.06.94-2.06 2.06-.94-2.06-.94-.94-2.06-.94 2.06-2.06.94zm-11 1L8.5 8.5l.94-2.06 2.06-.94-2.06-.94L8.5 2.5l-.94 2.06-2.06.94zm10 10l.94 2.06.94-2.06 2.06-.94-2.06-.94-.94-2.06-.94 2.06-2.06.94z\"/><path d=\"M17.41 7.96l-1.37-1.37c-.4-.4-.92-.59-1.43-.59-.52 0-1.04.2-1.43.59L10.3 9.45l-7.72 7.72c-.78.78-.78 2.05 0 2.83L4 21.41c.39.39.9.59 1.41.59.51 0 1.02-.2 1.41-.59l7.78-7.78 2.81-2.81c.8-.78.8-2.07 0-2.86zM5.41 20L4 18.59l7.72-7.72 1.47 1.35L5.41 20z\"/>\n",
       "  </svg>\n",
       "      </button>\n",
       "      \n",
       "  <style>\n",
       "    .colab-df-container {\n",
       "      display:flex;\n",
       "      flex-wrap:wrap;\n",
       "      gap: 12px;\n",
       "    }\n",
       "\n",
       "    .colab-df-convert {\n",
       "      background-color: #E8F0FE;\n",
       "      border: none;\n",
       "      border-radius: 50%;\n",
       "      cursor: pointer;\n",
       "      display: none;\n",
       "      fill: #1967D2;\n",
       "      height: 32px;\n",
       "      padding: 0 0 0 0;\n",
       "      width: 32px;\n",
       "    }\n",
       "\n",
       "    .colab-df-convert:hover {\n",
       "      background-color: #E2EBFA;\n",
       "      box-shadow: 0px 1px 2px rgba(60, 64, 67, 0.3), 0px 1px 3px 1px rgba(60, 64, 67, 0.15);\n",
       "      fill: #174EA6;\n",
       "    }\n",
       "\n",
       "    [theme=dark] .colab-df-convert {\n",
       "      background-color: #3B4455;\n",
       "      fill: #D2E3FC;\n",
       "    }\n",
       "\n",
       "    [theme=dark] .colab-df-convert:hover {\n",
       "      background-color: #434B5C;\n",
       "      box-shadow: 0px 1px 3px 1px rgba(0, 0, 0, 0.15);\n",
       "      filter: drop-shadow(0px 1px 2px rgba(0, 0, 0, 0.3));\n",
       "      fill: #FFFFFF;\n",
       "    }\n",
       "  </style>\n",
       "\n",
       "      <script>\n",
       "        const buttonEl =\n",
       "          document.querySelector('#df-7a843438-1b2d-42bc-a7fb-5b450d28de54 button.colab-df-convert');\n",
       "        buttonEl.style.display =\n",
       "          google.colab.kernel.accessAllowed ? 'block' : 'none';\n",
       "\n",
       "        async function convertToInteractive(key) {\n",
       "          const element = document.querySelector('#df-7a843438-1b2d-42bc-a7fb-5b450d28de54');\n",
       "          const dataTable =\n",
       "            await google.colab.kernel.invokeFunction('convertToInteractive',\n",
       "                                                     [key], {});\n",
       "          if (!dataTable) return;\n",
       "\n",
       "          const docLinkHtml = 'Like what you see? Visit the ' +\n",
       "            '<a target=\"_blank\" href=https://colab.research.google.com/notebooks/data_table.ipynb>data table notebook</a>'\n",
       "            + ' to learn more about interactive tables.';\n",
       "          element.innerHTML = '';\n",
       "          dataTable['output_type'] = 'display_data';\n",
       "          await google.colab.output.renderOutput(dataTable, element);\n",
       "          const docLink = document.createElement('div');\n",
       "          docLink.innerHTML = docLinkHtml;\n",
       "          element.appendChild(docLink);\n",
       "        }\n",
       "      </script>\n",
       "    </div>\n",
       "  </div>\n",
       "  "
      ],
      "text/plain": [
       "                  Date  Price\n",
       "Date                         \n",
       "1987-05-20  1987-05-20  18.63\n",
       "1987-05-21  1987-05-21  18.45\n",
       "1987-05-22  1987-05-22  18.55\n",
       "1987-05-25  1987-05-25  18.60\n",
       "1987-05-26  1987-05-26  18.63\n",
       "...                ...    ...\n",
       "2023-02-15  2023-02-15  84.11\n",
       "2023-02-16  2023-02-16  83.84\n",
       "2023-02-17  2023-02-17  81.97\n",
       "2023-02-20  2023-02-20  82.79\n",
       "2023-02-21  2023-02-21  82.14\n",
       "\n",
       "[9077 rows x 2 columns]"
      ]
     },
     "execution_count": 337,
     "metadata": {},
     "output_type": "execute_result"
    }
   ],
   "source": [
    "df_bonus"
   ]
  },
  {
   "cell_type": "code",
   "execution_count": null,
   "metadata": {
    "colab": {
     "base_uri": "https://localhost:8080/"
    },
    "id": "pBvEY4EpD8Ni",
    "outputId": "90b7a238-5778-4bdb-baa6-67455585ebf0"
   },
   "outputs": [
    {
     "name": "stdout",
     "output_type": "stream",
     "text": [
      "[*********************100%***********************]  2 of 2 completed\n"
     ]
    }
   ],
   "source": [
    "yfin.pdr_override()\n",
    "# ^ GSPC is S&P 500\n",
    "gold_data = pdr.get_data_yahoo([\"GC=F\",\"^GSPC\"])\n"
   ]
  },
  {
   "cell_type": "code",
   "execution_count": null,
   "metadata": {
    "colab": {
     "base_uri": "https://localhost:8080/",
     "height": 237
    },
    "id": "bJYOL13XFN1l",
    "outputId": "8f2902bb-0ee3-4743-a355-5441a5b1f221"
   },
   "outputs": [
    {
     "data": {
      "text/html": [
       "\n",
       "  <div id=\"df-84c08090-4f35-4eb4-8bd5-a1ab67f766d8\">\n",
       "    <div class=\"colab-df-container\">\n",
       "      <div>\n",
       "<style scoped>\n",
       "    .dataframe tbody tr th:only-of-type {\n",
       "        vertical-align: middle;\n",
       "    }\n",
       "\n",
       "    .dataframe tbody tr th {\n",
       "        vertical-align: top;\n",
       "    }\n",
       "\n",
       "    .dataframe thead th {\n",
       "        text-align: right;\n",
       "    }\n",
       "</style>\n",
       "<table border=\"1\" class=\"dataframe\">\n",
       "  <thead>\n",
       "    <tr style=\"text-align: right;\">\n",
       "      <th></th>\n",
       "      <th>GC=F</th>\n",
       "      <th>^GSPC</th>\n",
       "      <th>Price</th>\n",
       "    </tr>\n",
       "    <tr>\n",
       "      <th>Date</th>\n",
       "      <th></th>\n",
       "      <th></th>\n",
       "      <th></th>\n",
       "    </tr>\n",
       "  </thead>\n",
       "  <tbody>\n",
       "    <tr>\n",
       "      <th>2000-08-30</th>\n",
       "      <td>273.899994</td>\n",
       "      <td>1502.589966</td>\n",
       "      <td>34.13</td>\n",
       "    </tr>\n",
       "    <tr>\n",
       "      <th>2000-08-31</th>\n",
       "      <td>278.299988</td>\n",
       "      <td>1517.680054</td>\n",
       "      <td>35.08</td>\n",
       "    </tr>\n",
       "    <tr>\n",
       "      <th>2000-09-01</th>\n",
       "      <td>277.000000</td>\n",
       "      <td>1520.770020</td>\n",
       "      <td>35.09</td>\n",
       "    </tr>\n",
       "    <tr>\n",
       "      <th>2000-09-05</th>\n",
       "      <td>275.799988</td>\n",
       "      <td>1507.079956</td>\n",
       "      <td>35.72</td>\n",
       "    </tr>\n",
       "    <tr>\n",
       "      <th>2000-09-06</th>\n",
       "      <td>274.200012</td>\n",
       "      <td>1492.250000</td>\n",
       "      <td>36.70</td>\n",
       "    </tr>\n",
       "  </tbody>\n",
       "</table>\n",
       "</div>\n",
       "      <button class=\"colab-df-convert\" onclick=\"convertToInteractive('df-84c08090-4f35-4eb4-8bd5-a1ab67f766d8')\"\n",
       "              title=\"Convert this dataframe to an interactive table.\"\n",
       "              style=\"display:none;\">\n",
       "        \n",
       "  <svg xmlns=\"http://www.w3.org/2000/svg\" height=\"24px\"viewBox=\"0 0 24 24\"\n",
       "       width=\"24px\">\n",
       "    <path d=\"M0 0h24v24H0V0z\" fill=\"none\"/>\n",
       "    <path d=\"M18.56 5.44l.94 2.06.94-2.06 2.06-.94-2.06-.94-.94-2.06-.94 2.06-2.06.94zm-11 1L8.5 8.5l.94-2.06 2.06-.94-2.06-.94L8.5 2.5l-.94 2.06-2.06.94zm10 10l.94 2.06.94-2.06 2.06-.94-2.06-.94-.94-2.06-.94 2.06-2.06.94z\"/><path d=\"M17.41 7.96l-1.37-1.37c-.4-.4-.92-.59-1.43-.59-.52 0-1.04.2-1.43.59L10.3 9.45l-7.72 7.72c-.78.78-.78 2.05 0 2.83L4 21.41c.39.39.9.59 1.41.59.51 0 1.02-.2 1.41-.59l7.78-7.78 2.81-2.81c.8-.78.8-2.07 0-2.86zM5.41 20L4 18.59l7.72-7.72 1.47 1.35L5.41 20z\"/>\n",
       "  </svg>\n",
       "      </button>\n",
       "      \n",
       "  <style>\n",
       "    .colab-df-container {\n",
       "      display:flex;\n",
       "      flex-wrap:wrap;\n",
       "      gap: 12px;\n",
       "    }\n",
       "\n",
       "    .colab-df-convert {\n",
       "      background-color: #E8F0FE;\n",
       "      border: none;\n",
       "      border-radius: 50%;\n",
       "      cursor: pointer;\n",
       "      display: none;\n",
       "      fill: #1967D2;\n",
       "      height: 32px;\n",
       "      padding: 0 0 0 0;\n",
       "      width: 32px;\n",
       "    }\n",
       "\n",
       "    .colab-df-convert:hover {\n",
       "      background-color: #E2EBFA;\n",
       "      box-shadow: 0px 1px 2px rgba(60, 64, 67, 0.3), 0px 1px 3px 1px rgba(60, 64, 67, 0.15);\n",
       "      fill: #174EA6;\n",
       "    }\n",
       "\n",
       "    [theme=dark] .colab-df-convert {\n",
       "      background-color: #3B4455;\n",
       "      fill: #D2E3FC;\n",
       "    }\n",
       "\n",
       "    [theme=dark] .colab-df-convert:hover {\n",
       "      background-color: #434B5C;\n",
       "      box-shadow: 0px 1px 3px 1px rgba(0, 0, 0, 0.15);\n",
       "      filter: drop-shadow(0px 1px 2px rgba(0, 0, 0, 0.3));\n",
       "      fill: #FFFFFF;\n",
       "    }\n",
       "  </style>\n",
       "\n",
       "      <script>\n",
       "        const buttonEl =\n",
       "          document.querySelector('#df-84c08090-4f35-4eb4-8bd5-a1ab67f766d8 button.colab-df-convert');\n",
       "        buttonEl.style.display =\n",
       "          google.colab.kernel.accessAllowed ? 'block' : 'none';\n",
       "\n",
       "        async function convertToInteractive(key) {\n",
       "          const element = document.querySelector('#df-84c08090-4f35-4eb4-8bd5-a1ab67f766d8');\n",
       "          const dataTable =\n",
       "            await google.colab.kernel.invokeFunction('convertToInteractive',\n",
       "                                                     [key], {});\n",
       "          if (!dataTable) return;\n",
       "\n",
       "          const docLinkHtml = 'Like what you see? Visit the ' +\n",
       "            '<a target=\"_blank\" href=https://colab.research.google.com/notebooks/data_table.ipynb>data table notebook</a>'\n",
       "            + ' to learn more about interactive tables.';\n",
       "          element.innerHTML = '';\n",
       "          dataTable['output_type'] = 'display_data';\n",
       "          await google.colab.output.renderOutput(dataTable, element);\n",
       "          const docLink = document.createElement('div');\n",
       "          docLink.innerHTML = docLinkHtml;\n",
       "          element.appendChild(docLink);\n",
       "        }\n",
       "      </script>\n",
       "    </div>\n",
       "  </div>\n",
       "  "
      ],
      "text/plain": [
       "                  GC=F        ^GSPC  Price\n",
       "Date                                      \n",
       "2000-08-30  273.899994  1502.589966  34.13\n",
       "2000-08-31  278.299988  1517.680054  35.08\n",
       "2000-09-01  277.000000  1520.770020  35.09\n",
       "2000-09-05  275.799988  1507.079956  35.72\n",
       "2000-09-06  274.200012  1492.250000  36.70"
      ]
     },
     "execution_count": 339,
     "metadata": {},
     "output_type": "execute_result"
    }
   ],
   "source": [
    "total_data = pd.concat([gold_data[\"Adj Close\"].dropna(),df_bonus ],axis= 1).dropna()\n",
    "total_data.drop([\"Date\"],inplace=True,axis=1)\n",
    "total_data.head()"
   ]
  },
  {
   "cell_type": "code",
   "execution_count": null,
   "metadata": {
    "colab": {
     "base_uri": "https://localhost:8080/",
     "height": 17
    },
    "id": "GXVqIAxhL_b5",
    "outputId": "0af47f26-5dec-4607-dfb7-05029dcc7c0f"
   },
   "outputs": [
    {
     "data": {
      "application/javascript": [
       "\n",
       "    async function download(id, filename, size) {\n",
       "      if (!google.colab.kernel.accessAllowed) {\n",
       "        return;\n",
       "      }\n",
       "      const div = document.createElement('div');\n",
       "      const label = document.createElement('label');\n",
       "      label.textContent = `Downloading \"${filename}\": `;\n",
       "      div.appendChild(label);\n",
       "      const progress = document.createElement('progress');\n",
       "      progress.max = size;\n",
       "      div.appendChild(progress);\n",
       "      document.body.appendChild(div);\n",
       "\n",
       "      const buffers = [];\n",
       "      let downloaded = 0;\n",
       "\n",
       "      const channel = await google.colab.kernel.comms.open(id);\n",
       "      // Send a message to notify the kernel that we're ready.\n",
       "      channel.send({})\n",
       "\n",
       "      for await (const message of channel.messages) {\n",
       "        // Send a message to notify the kernel that we're ready.\n",
       "        channel.send({})\n",
       "        if (message.buffers) {\n",
       "          for (const buffer of message.buffers) {\n",
       "            buffers.push(buffer);\n",
       "            downloaded += buffer.byteLength;\n",
       "            progress.value = downloaded;\n",
       "          }\n",
       "        }\n",
       "      }\n",
       "      const blob = new Blob(buffers, {type: 'application/binary'});\n",
       "      const a = document.createElement('a');\n",
       "      a.href = window.URL.createObjectURL(blob);\n",
       "      a.download = filename;\n",
       "      div.appendChild(a);\n",
       "      a.click();\n",
       "      div.remove();\n",
       "    }\n",
       "  "
      ],
      "text/plain": [
       "<IPython.core.display.Javascript object>"
      ]
     },
     "metadata": {},
     "output_type": "display_data"
    },
    {
     "data": {
      "application/javascript": [
       "download(\"download_cf2bac99-fc66-4f1f-9686-95bc054bb4ff\", \"total_data.csv\", 282456)"
      ],
      "text/plain": [
       "<IPython.core.display.Javascript object>"
      ]
     },
     "metadata": {},
     "output_type": "display_data"
    }
   ],
   "source": [
    "from google.colab import files\n",
    "\n",
    "total_data.to_csv(\"total_data.csv\")\n",
    "files.download(\"total_data.csv\")"
   ]
  },
  {
   "cell_type": "code",
   "execution_count": null,
   "metadata": {
    "id": "MVW3dQtNHtcc"
   },
   "outputs": [],
   "source": [
    "total_data.columns = [\"Gold\", \"S&P500\",\"Oil\"]"
   ]
  },
  {
   "cell_type": "code",
   "execution_count": null,
   "metadata": {
    "colab": {
     "base_uri": "https://localhost:8080/",
     "height": 237
    },
    "id": "qzL3hAhWE4rp",
    "outputId": "2a7bf8d3-8529-40db-d017-e5f97167ef36"
   },
   "outputs": [
    {
     "data": {
      "text/html": [
       "\n",
       "  <div id=\"df-8e14ec0d-3daa-46bb-a03c-8c5b9a777eb1\">\n",
       "    <div class=\"colab-df-container\">\n",
       "      <div>\n",
       "<style scoped>\n",
       "    .dataframe tbody tr th:only-of-type {\n",
       "        vertical-align: middle;\n",
       "    }\n",
       "\n",
       "    .dataframe tbody tr th {\n",
       "        vertical-align: top;\n",
       "    }\n",
       "\n",
       "    .dataframe thead th {\n",
       "        text-align: right;\n",
       "    }\n",
       "</style>\n",
       "<table border=\"1\" class=\"dataframe\">\n",
       "  <thead>\n",
       "    <tr style=\"text-align: right;\">\n",
       "      <th></th>\n",
       "      <th>1_day</th>\n",
       "      <th>5_day</th>\n",
       "    </tr>\n",
       "    <tr>\n",
       "      <th>Date</th>\n",
       "      <th></th>\n",
       "      <th></th>\n",
       "    </tr>\n",
       "  </thead>\n",
       "  <tbody>\n",
       "    <tr>\n",
       "      <th>2000-08-30</th>\n",
       "      <td>1</td>\n",
       "      <td>0.0</td>\n",
       "    </tr>\n",
       "    <tr>\n",
       "      <th>2000-08-31</th>\n",
       "      <td>1</td>\n",
       "      <td>0.0</td>\n",
       "    </tr>\n",
       "    <tr>\n",
       "      <th>2000-09-01</th>\n",
       "      <td>0</td>\n",
       "      <td>0.0</td>\n",
       "    </tr>\n",
       "    <tr>\n",
       "      <th>2000-09-05</th>\n",
       "      <td>0</td>\n",
       "      <td>0.0</td>\n",
       "    </tr>\n",
       "    <tr>\n",
       "      <th>2000-09-06</th>\n",
       "      <td>1</td>\n",
       "      <td>0.0</td>\n",
       "    </tr>\n",
       "  </tbody>\n",
       "</table>\n",
       "</div>\n",
       "      <button class=\"colab-df-convert\" onclick=\"convertToInteractive('df-8e14ec0d-3daa-46bb-a03c-8c5b9a777eb1')\"\n",
       "              title=\"Convert this dataframe to an interactive table.\"\n",
       "              style=\"display:none;\">\n",
       "        \n",
       "  <svg xmlns=\"http://www.w3.org/2000/svg\" height=\"24px\"viewBox=\"0 0 24 24\"\n",
       "       width=\"24px\">\n",
       "    <path d=\"M0 0h24v24H0V0z\" fill=\"none\"/>\n",
       "    <path d=\"M18.56 5.44l.94 2.06.94-2.06 2.06-.94-2.06-.94-.94-2.06-.94 2.06-2.06.94zm-11 1L8.5 8.5l.94-2.06 2.06-.94-2.06-.94L8.5 2.5l-.94 2.06-2.06.94zm10 10l.94 2.06.94-2.06 2.06-.94-2.06-.94-.94-2.06-.94 2.06-2.06.94z\"/><path d=\"M17.41 7.96l-1.37-1.37c-.4-.4-.92-.59-1.43-.59-.52 0-1.04.2-1.43.59L10.3 9.45l-7.72 7.72c-.78.78-.78 2.05 0 2.83L4 21.41c.39.39.9.59 1.41.59.51 0 1.02-.2 1.41-.59l7.78-7.78 2.81-2.81c.8-.78.8-2.07 0-2.86zM5.41 20L4 18.59l7.72-7.72 1.47 1.35L5.41 20z\"/>\n",
       "  </svg>\n",
       "      </button>\n",
       "      \n",
       "  <style>\n",
       "    .colab-df-container {\n",
       "      display:flex;\n",
       "      flex-wrap:wrap;\n",
       "      gap: 12px;\n",
       "    }\n",
       "\n",
       "    .colab-df-convert {\n",
       "      background-color: #E8F0FE;\n",
       "      border: none;\n",
       "      border-radius: 50%;\n",
       "      cursor: pointer;\n",
       "      display: none;\n",
       "      fill: #1967D2;\n",
       "      height: 32px;\n",
       "      padding: 0 0 0 0;\n",
       "      width: 32px;\n",
       "    }\n",
       "\n",
       "    .colab-df-convert:hover {\n",
       "      background-color: #E2EBFA;\n",
       "      box-shadow: 0px 1px 2px rgba(60, 64, 67, 0.3), 0px 1px 3px 1px rgba(60, 64, 67, 0.15);\n",
       "      fill: #174EA6;\n",
       "    }\n",
       "\n",
       "    [theme=dark] .colab-df-convert {\n",
       "      background-color: #3B4455;\n",
       "      fill: #D2E3FC;\n",
       "    }\n",
       "\n",
       "    [theme=dark] .colab-df-convert:hover {\n",
       "      background-color: #434B5C;\n",
       "      box-shadow: 0px 1px 3px 1px rgba(0, 0, 0, 0.15);\n",
       "      filter: drop-shadow(0px 1px 2px rgba(0, 0, 0, 0.3));\n",
       "      fill: #FFFFFF;\n",
       "    }\n",
       "  </style>\n",
       "\n",
       "      <script>\n",
       "        const buttonEl =\n",
       "          document.querySelector('#df-8e14ec0d-3daa-46bb-a03c-8c5b9a777eb1 button.colab-df-convert');\n",
       "        buttonEl.style.display =\n",
       "          google.colab.kernel.accessAllowed ? 'block' : 'none';\n",
       "\n",
       "        async function convertToInteractive(key) {\n",
       "          const element = document.querySelector('#df-8e14ec0d-3daa-46bb-a03c-8c5b9a777eb1');\n",
       "          const dataTable =\n",
       "            await google.colab.kernel.invokeFunction('convertToInteractive',\n",
       "                                                     [key], {});\n",
       "          if (!dataTable) return;\n",
       "\n",
       "          const docLinkHtml = 'Like what you see? Visit the ' +\n",
       "            '<a target=\"_blank\" href=https://colab.research.google.com/notebooks/data_table.ipynb>data table notebook</a>'\n",
       "            + ' to learn more about interactive tables.';\n",
       "          element.innerHTML = '';\n",
       "          dataTable['output_type'] = 'display_data';\n",
       "          await google.colab.output.renderOutput(dataTable, element);\n",
       "          const docLink = document.createElement('div');\n",
       "          docLink.innerHTML = docLinkHtml;\n",
       "          element.appendChild(docLink);\n",
       "        }\n",
       "      </script>\n",
       "    </div>\n",
       "  </div>\n",
       "  "
      ],
      "text/plain": [
       "            1_day  5_day\n",
       "Date                    \n",
       "2000-08-30      1    0.0\n",
       "2000-08-31      1    0.0\n",
       "2000-09-01      0    0.0\n",
       "2000-09-05      0    0.0\n",
       "2000-09-06      1    0.0"
      ]
     },
     "execution_count": 342,
     "metadata": {},
     "output_type": "execute_result"
    }
   ],
   "source": [
    "up_data_SP500 = pd.DataFrame()\n",
    "up_data_SP500[\"1_day\"] =total_data[\"S&P500\"].diff(1).shift(-1).dropna().ge(0).astype(int)\n",
    "up_data_SP500[\"5_day\"] =total_data[\"S&P500\"].diff(5).shift(-5).dropna().ge(0).astype(int)\n",
    "\n",
    "up_data_SP500.dropna(inplace= True)\n",
    "up_data_SP500.head()"
   ]
  },
  {
   "cell_type": "code",
   "execution_count": null,
   "metadata": {
    "id": "sJdnqsuBFUgL"
   },
   "outputs": [],
   "source": [
    "# Need to truncate the date to match test set\n",
    "total_data_up = pd.concat([up_data_SP500,total_data.pct_change()],axis=1)\n",
    "total_data_up =total_data_up.dropna().iloc[:,: (len(up_data_SP500.columns)+len(total_data.columns))].copy()"
   ]
  },
  {
   "cell_type": "code",
   "execution_count": null,
   "metadata": {
    "colab": {
     "base_uri": "https://localhost:8080/"
    },
    "id": "7jTxo9ePPn0n",
    "outputId": "3c21a6f3-8c8d-4fa1-9691-cdd370a402ac"
   },
   "outputs": [
    {
     "data": {
      "text/plain": [
       "Timestamp('2017-08-07 00:00:00')"
      ]
     },
     "execution_count": 344,
     "metadata": {},
     "output_type": "execute_result"
    }
   ],
   "source": [
    "# Date of test set is\n",
    "min(min_err_list[0][1][\"real\"].index)"
   ]
  },
  {
   "cell_type": "code",
   "execution_count": null,
   "metadata": {
    "id": "DPcBxLUfP3I2"
   },
   "outputs": [],
   "source": [
    "train_set_total = total_data_up[total_data_up.index <min(min_err_list[0][1][\"real\"].index) ]"
   ]
  },
  {
   "cell_type": "code",
   "execution_count": null,
   "metadata": {
    "id": "SNdPnuvgP8XZ"
   },
   "outputs": [],
   "source": [
    "# Thankfully all data are from same market so their date intersection\n",
    "# is just the date starting from test and ends at another one\n",
    "# depending on which is lower\n",
    "test_set_total= pd.concat([total_data_up,min_err_list[0][1][\"real\"]],axis=1)\n",
    "test_set_total=test_set_total.dropna().iloc[:,: (len(up_data_SP500.columns)+len(total_data.columns))].copy()"
   ]
  },
  {
   "cell_type": "markdown",
   "metadata": {
    "id": "OBkoQY1eOLGa"
   },
   "source": [
    "#### Model"
   ]
  },
  {
   "cell_type": "code",
   "execution_count": null,
   "metadata": {
    "colab": {
     "base_uri": "https://localhost:8080/",
     "height": 143
    },
    "id": "HZtjaXozJl6i",
    "outputId": "9266d9ca-3de3-4bc3-873e-a01fb875026c"
   },
   "outputs": [
    {
     "data": {
      "text/html": [
       "\n",
       "  <div id=\"df-f82abca5-14b6-46f4-a9a4-eaa941df30b0\">\n",
       "    <div class=\"colab-df-container\">\n",
       "      <div>\n",
       "<style scoped>\n",
       "    .dataframe tbody tr th:only-of-type {\n",
       "        vertical-align: middle;\n",
       "    }\n",
       "\n",
       "    .dataframe tbody tr th {\n",
       "        vertical-align: top;\n",
       "    }\n",
       "\n",
       "    .dataframe thead th {\n",
       "        text-align: right;\n",
       "    }\n",
       "</style>\n",
       "<table border=\"1\" class=\"dataframe\">\n",
       "  <thead>\n",
       "    <tr style=\"text-align: right;\">\n",
       "      <th></th>\n",
       "      <th>name</th>\n",
       "      <th>val</th>\n",
       "    </tr>\n",
       "  </thead>\n",
       "  <tbody>\n",
       "    <tr>\n",
       "      <th>0</th>\n",
       "      <td>Gold</td>\n",
       "      <td>0.338083</td>\n",
       "    </tr>\n",
       "    <tr>\n",
       "      <th>1</th>\n",
       "      <td>S&amp;P500</td>\n",
       "      <td>0.338927</td>\n",
       "    </tr>\n",
       "    <tr>\n",
       "      <th>2</th>\n",
       "      <td>Oil</td>\n",
       "      <td>0.322990</td>\n",
       "    </tr>\n",
       "  </tbody>\n",
       "</table>\n",
       "</div>\n",
       "      <button class=\"colab-df-convert\" onclick=\"convertToInteractive('df-f82abca5-14b6-46f4-a9a4-eaa941df30b0')\"\n",
       "              title=\"Convert this dataframe to an interactive table.\"\n",
       "              style=\"display:none;\">\n",
       "        \n",
       "  <svg xmlns=\"http://www.w3.org/2000/svg\" height=\"24px\"viewBox=\"0 0 24 24\"\n",
       "       width=\"24px\">\n",
       "    <path d=\"M0 0h24v24H0V0z\" fill=\"none\"/>\n",
       "    <path d=\"M18.56 5.44l.94 2.06.94-2.06 2.06-.94-2.06-.94-.94-2.06-.94 2.06-2.06.94zm-11 1L8.5 8.5l.94-2.06 2.06-.94-2.06-.94L8.5 2.5l-.94 2.06-2.06.94zm10 10l.94 2.06.94-2.06 2.06-.94-2.06-.94-.94-2.06-.94 2.06-2.06.94z\"/><path d=\"M17.41 7.96l-1.37-1.37c-.4-.4-.92-.59-1.43-.59-.52 0-1.04.2-1.43.59L10.3 9.45l-7.72 7.72c-.78.78-.78 2.05 0 2.83L4 21.41c.39.39.9.59 1.41.59.51 0 1.02-.2 1.41-.59l7.78-7.78 2.81-2.81c.8-.78.8-2.07 0-2.86zM5.41 20L4 18.59l7.72-7.72 1.47 1.35L5.41 20z\"/>\n",
       "  </svg>\n",
       "      </button>\n",
       "      \n",
       "  <style>\n",
       "    .colab-df-container {\n",
       "      display:flex;\n",
       "      flex-wrap:wrap;\n",
       "      gap: 12px;\n",
       "    }\n",
       "\n",
       "    .colab-df-convert {\n",
       "      background-color: #E8F0FE;\n",
       "      border: none;\n",
       "      border-radius: 50%;\n",
       "      cursor: pointer;\n",
       "      display: none;\n",
       "      fill: #1967D2;\n",
       "      height: 32px;\n",
       "      padding: 0 0 0 0;\n",
       "      width: 32px;\n",
       "    }\n",
       "\n",
       "    .colab-df-convert:hover {\n",
       "      background-color: #E2EBFA;\n",
       "      box-shadow: 0px 1px 2px rgba(60, 64, 67, 0.3), 0px 1px 3px 1px rgba(60, 64, 67, 0.15);\n",
       "      fill: #174EA6;\n",
       "    }\n",
       "\n",
       "    [theme=dark] .colab-df-convert {\n",
       "      background-color: #3B4455;\n",
       "      fill: #D2E3FC;\n",
       "    }\n",
       "\n",
       "    [theme=dark] .colab-df-convert:hover {\n",
       "      background-color: #434B5C;\n",
       "      box-shadow: 0px 1px 3px 1px rgba(0, 0, 0, 0.15);\n",
       "      filter: drop-shadow(0px 1px 2px rgba(0, 0, 0, 0.3));\n",
       "      fill: #FFFFFF;\n",
       "    }\n",
       "  </style>\n",
       "\n",
       "      <script>\n",
       "        const buttonEl =\n",
       "          document.querySelector('#df-f82abca5-14b6-46f4-a9a4-eaa941df30b0 button.colab-df-convert');\n",
       "        buttonEl.style.display =\n",
       "          google.colab.kernel.accessAllowed ? 'block' : 'none';\n",
       "\n",
       "        async function convertToInteractive(key) {\n",
       "          const element = document.querySelector('#df-f82abca5-14b6-46f4-a9a4-eaa941df30b0');\n",
       "          const dataTable =\n",
       "            await google.colab.kernel.invokeFunction('convertToInteractive',\n",
       "                                                     [key], {});\n",
       "          if (!dataTable) return;\n",
       "\n",
       "          const docLinkHtml = 'Like what you see? Visit the ' +\n",
       "            '<a target=\"_blank\" href=https://colab.research.google.com/notebooks/data_table.ipynb>data table notebook</a>'\n",
       "            + ' to learn more about interactive tables.';\n",
       "          element.innerHTML = '';\n",
       "          dataTable['output_type'] = 'display_data';\n",
       "          await google.colab.output.renderOutput(dataTable, element);\n",
       "          const docLink = document.createElement('div');\n",
       "          docLink.innerHTML = docLinkHtml;\n",
       "          element.appendChild(docLink);\n",
       "        }\n",
       "      </script>\n",
       "    </div>\n",
       "  </div>\n",
       "  "
      ],
      "text/plain": [
       "     name       val\n",
       "0    Gold  0.338083\n",
       "1  S&P500  0.338927\n",
       "2     Oil  0.322990"
      ]
     },
     "execution_count": 347,
     "metadata": {},
     "output_type": "execute_result"
    }
   ],
   "source": [
    "from sklearn.tree import DecisionTreeClassifier\n",
    "\n",
    "clf_1_day = DecisionTreeClassifier(random_state=0)\n",
    "\n",
    "clf_1_day.fit(train_set_total.drop([\"1_day\",\"5_day\"],axis=True), train_set_total[\"1_day\"])\n",
    "\n",
    "clf_5_day = DecisionTreeClassifier(random_state=0)\n",
    "\n",
    "clf_5_day.fit(train_set_total.drop([\"1_day\",\"5_day\"],axis=True),train_set_total[\"5_day\"])\n",
    "\n",
    "pd.DataFrame({\"name\":clf_1_day.feature_names_in_, \" val\":clf_1_day.feature_importances_})"
   ]
  },
  {
   "cell_type": "markdown",
   "metadata": {
    "id": "Rom-URdXONW7"
   },
   "source": [
    "#### Result"
   ]
  },
  {
   "cell_type": "code",
   "execution_count": null,
   "metadata": {
    "id": "-2mWYLYDMxTq"
   },
   "outputs": [],
   "source": [
    "n_decision = math.ceil(nstocks/2.0)\n",
    "cash = 10000\n",
    "stock_pos = [0]*nstocks\n",
    "starting_cash = cash \n",
    "hold_days = 5\n",
    "days = hold_days\n",
    "#transaction cost\n",
    "transac = 0.002\n",
    "#Cash money\n",
    "# Add min_length here because needs to account for shorter time\n",
    "# Luckily we have all the matching opening date \n",
    "# So doing loop never has this date disparity\n",
    "# Think about if one market opens on Sunday but another opens on Saturday\n",
    "min_length = min(len(min_err_list[0][1][\"real\"].index),len(test_set_total))\n",
    "\n",
    "money_record = [0]* min_length\n",
    "holding = False"
   ]
  },
  {
   "cell_type": "code",
   "execution_count": null,
   "metadata": {
    "id": "R-txVSjxMuEY"
   },
   "outputs": [],
   "source": [
    "idx = 0\n",
    "for i in range(0,min_length):\n",
    "  pred = np.array([0.0]*nstocks)\n",
    "  real = np.array([0.0]*nstocks)\n",
    "  SP1days = clf_1_day.predict(pd.DataFrame(test_set_total.iloc[i,2:len(test_set_total.columns)]).transpose())\n",
    "  SP5days = clf_5_day.predict(pd.DataFrame(test_set_total.iloc[i,2:len(test_set_total.columns)]).transpose())\n",
    " \n",
    "  for j in range(0,len(min_err_list)):\n",
    "    stockInfo = min_err_list[j][1]\n",
    "    pred[j] = stockInfo[\"pred\"].iloc[i,0]\n",
    "\n",
    "    real[j] = stockInfo[\"real\"][i]\n",
    "  # number where prediction up i\n",
    "  pred_up = (sum(pred>real))\n",
    "  # now account for S&P\n",
    "  if (not holding) & (pred_up >=n_decision)& (SP1days[0] > 0 )& (SP5days[0] > 0 ):\n",
    "    holding = True \n",
    "    # position array\n",
    "    stock_pos = np.array([starting_cash*(1-transac)]*nstocks)/nstocks / real\n",
    "    money_record[i] = sum(stock_pos*real)\n",
    "    #print(\"buy\")\n",
    "    #print(sum(stock_pos*real))\n",
    "    \n",
    "  elif holding:\n",
    "    # value of portfolio\n",
    "    #print(\"hold\")\n",
    "    money_record[i] = sum(stock_pos*real)\n",
    "    days = days-1\n",
    "    # if days to hold is 0, we sell\n",
    "    if days == 0 :\n",
    "      #print(\"sell and cash\")\n",
    "      holding = False\n",
    "      days = hold_days\n",
    "\n",
    "      starting_cash = sum(stock_pos*real)*(1-transac)\n",
    "      #print(starting_cash)\n",
    "      stock_pos = [0]*nstocks\n",
    "  else :\n",
    "    money_record[i] = starting_cash\n"
   ]
  },
  {
   "cell_type": "code",
   "execution_count": null,
   "metadata": {
    "colab": {
     "base_uri": "https://localhost:8080/",
     "height": 282
    },
    "id": "oKaOyEhQOYmK",
    "outputId": "055bb10a-c8e7-44c3-dc9a-baf7b5773734"
   },
   "outputs": [
    {
     "data": {
      "text/plain": [
       "<matplotlib.legend.Legend at 0x7f291e446130>"
      ]
     },
     "execution_count": 350,
     "metadata": {},
     "output_type": "execute_result"
    },
    {
     "data": {
      "image/png": "[encoded data removed]",
      "text/plain": [
       "<Figure size 432x288 with 1 Axes>"
      ]
     },
     "metadata": {
      "needs_background": "light"
     },
     "output_type": "display_data"
    }
   ],
   "source": [
    "#plt.plot(money_record, label=\"cash\")\n",
    "profit = (np.array(money_record)-cash).tolist()\n",
    "plt.plot(profit, label=\"profit\")\n",
    "plt.legend()"
   ]
  },
  {
   "cell_type": "markdown",
   "metadata": {
    "id": "Suy8yp2UUcgu"
   },
   "source": [
    "### Mean Variance optimized\n",
    "\n",
    "That kind of portfolio instead of equal weight.\n",
    "\n",
    "No rebalance/ recalculate weight at any time.\n",
    "\n",
    "Adapted from https://builtin.com/data-science/portfolio-optimization-python\n",
    "\n"
   ]
  },
  {
   "cell_type": "markdown",
   "metadata": {
    "id": "unO8LTDfWzgw"
   },
   "source": [
    "#### Finding weight"
   ]
  },
  {
   "cell_type": "code",
   "execution_count": null,
   "metadata": {
    "colab": {
     "base_uri": "https://localhost:8080/"
    },
    "id": "7BiSSAhOWcdr",
    "outputId": "3242b802-de45-48a6-ea7e-7ff4b9361d23"
   },
   "outputs": [
    {
     "data": {
      "text/plain": [
       "Timestamp('2017-08-07 00:00:00')"
      ]
     },
     "execution_count": 351,
     "metadata": {},
     "output_type": "execute_result"
    }
   ],
   "source": [
    "min_date = min(min_err_list[0][1][\"real\"].index)\n",
    "min_date"
   ]
  },
  {
   "cell_type": "code",
   "execution_count": null,
   "metadata": {
    "id": "yXJ-GKdsVfQE"
   },
   "outputs": [],
   "source": [
    "wholeStock = pd.DataFrame(stk_data.loc[:, ('Adj Close')])\n",
    "# We only use data before test set to find weight\n",
    "wholeStock = wholeStock[wholeStock.index <min_date].dropna()"
   ]
  },
  {
   "cell_type": "code",
   "execution_count": null,
   "metadata": {
    "colab": {
     "base_uri": "https://localhost:8080/"
    },
    "id": "cFmRJNj7XLyt",
    "outputId": "79b8d9d4-6a1f-4914-e2a2-559e6f178b35"
   },
   "outputs": [
    {
     "data": {
      "text/plain": [
       "['CSCO', 'AAPL', 'GOOGL', 'AMZN', 'MSFT']"
      ]
     },
     "execution_count": 353,
     "metadata": {},
     "output_type": "execute_result"
    }
   ],
   "source": [
    "# This is the stocks we choose nstocks minimum error to trade\n",
    "trading_stock = [i[0] for i in min_err_list]\n",
    "trading_stock"
   ]
  },
  {
   "cell_type": "code",
   "execution_count": null,
   "metadata": {
    "id": "fBu1fq4aX9s5"
   },
   "outputs": [],
   "source": [
    "from pypfopt.expected_returns import mean_historical_return\n",
    "from pypfopt.risk_models import CovarianceShrinkage\n",
    "chosen_stock = wholeStock[trading_stock]\n",
    "# Require input as price of stock dataframe\n",
    "mu = mean_historical_return(chosen_stock)\n",
    "S = CovarianceShrinkage(chosen_stock).ledoit_wolf()"
   ]
  },
  {
   "cell_type": "code",
   "execution_count": null,
   "metadata": {
    "colab": {
     "base_uri": "https://localhost:8080/"
    },
    "id": "H5ON3d9cYdjC",
    "outputId": "2c40e70b-7dc8-4b71-ae28-818bbb94e8de"
   },
   "outputs": [
    {
     "name": "stdout",
     "output_type": "stream",
     "text": [
      "{'CSCO': 0.0, 'AAPL': 0.68575, 'GOOGL': 0.20075, 'AMZN': 0.1135, 'MSFT': 0.0}\n"
     ]
    }
   ],
   "source": [
    "from pypfopt.efficient_frontier import EfficientFrontier\n",
    "\n",
    "ef = EfficientFrontier(mu, S)\n",
    "weights = ef.max_sharpe()\n",
    "\n",
    "cleaned_weights = ef.clean_weights()\n",
    "print(dict(cleaned_weights))"
   ]
  },
  {
   "cell_type": "code",
   "execution_count": null,
   "metadata": {
    "id": "6XCz7QrZY88Y"
   },
   "outputs": [],
   "source": [
    "# record the weight\n",
    "port_weight= np.array(list(cleaned_weights.values()) )\n"
   ]
  },
  {
   "cell_type": "markdown",
   "metadata": {
    "id": "zMPNF0MhakEO"
   },
   "source": [
    "#### Result"
   ]
  },
  {
   "cell_type": "code",
   "execution_count": null,
   "metadata": {
    "id": "28kBShg1ajc-"
   },
   "outputs": [],
   "source": [
    "n_decision = math.ceil(nstocks/2.0)\n",
    "cash = 10000\n",
    "stock_pos = [0]*nstocks\n",
    "starting_cash = cash \n",
    "hold_days = 5\n",
    "days = hold_days\n",
    "#transaction cost\n",
    "transac = 0.002\n",
    "#Cash money\n",
    "money_record = [0]* len(min_err_list[0][1][\"real\"].index)\n",
    "holding = False"
   ]
  },
  {
   "cell_type": "code",
   "execution_count": null,
   "metadata": {
    "id": "9Wkad9pCYyCl"
   },
   "outputs": [],
   "source": [
    "idx = 0\n",
    "for i in range(0,len(min_err_list[0][1][\"real\"].index)):\n",
    "  pred = np.array([0.0]*nstocks)\n",
    "  real = np.array([0.0]*nstocks)\n",
    "  for j in range(0,len(min_err_list)):\n",
    "    stockInfo = min_err_list[j][1]\n",
    "    pred[j] = stockInfo[\"pred\"].iloc[i,0]\n",
    "\n",
    "    real[j] = stockInfo[\"real\"][i]\n",
    "  # number where prediction up i\n",
    "  pred_up = (sum(pred>real))\n",
    "  if (not holding) & (pred_up >=n_decision):\n",
    "    holding = True \n",
    "    # position array\n",
    "    stock_pos = (starting_cash*(1-transac))*port_weight / real\n",
    "    money_record[i] = sum(stock_pos*real)\n",
    "    #print(\"buy\")\n",
    "    #print(sum(stock_pos*real))\n",
    "    \n",
    "  elif holding:\n",
    "    # value of portfolio\n",
    "    #print(\"hold\")\n",
    "    money_record[i] = sum(stock_pos*real)\n",
    "    days = days-1\n",
    "    # if days to hold is 0, we sell\n",
    "    if days == 0 :\n",
    "      #print(\"sell and cash\")\n",
    "      holding = False\n",
    "      days = hold_days\n",
    "\n",
    "      starting_cash = sum(stock_pos*real)*(1-transac)\n",
    "      #print(starting_cash)\n",
    "      stock_pos = [0]*nstocks\n",
    "  else :\n",
    "    money_record[i] = starting_cash\n"
   ]
  },
  {
   "cell_type": "code",
   "execution_count": null,
   "metadata": {
    "colab": {
     "base_uri": "https://localhost:8080/",
     "height": 282
    },
    "id": "XDbcB17QapKc",
    "outputId": "193e5e3e-dfc7-411b-8142-37947a07eff8"
   },
   "outputs": [
    {
     "data": {
      "text/plain": [
       "<matplotlib.legend.Legend at 0x7f29054cc6a0>"
      ]
     },
     "execution_count": 359,
     "metadata": {},
     "output_type": "execute_result"
    },
    {
     "data": {
      "image/png": "[encoded data removed]",
      "text/plain": [
       "<Figure size 432x288 with 1 Axes>"
      ]
     },
     "metadata": {
      "needs_background": "light"
     },
     "output_type": "display_data"
    }
   ],
   "source": [
    "#plt.plot(money_record, label=\"cash\")\n",
    "profit = (np.array(money_record)-cash).tolist()\n",
    "plt.plot(profit, label=\"profit\")\n",
    "plt.legend()"
   ]
  },
  {
   "cell_type": "markdown",
   "metadata": {
    "id": "0qKvjEPObasW"
   },
   "source": [
    "### Mean Variance optimized Calibrate\n",
    "\n",
    "Calibrate the weight every time we buy"
   ]
  },
  {
   "cell_type": "code",
   "execution_count": null,
   "metadata": {
    "id": "iV_9JN8Zba7k"
   },
   "outputs": [],
   "source": [
    "n_decision = math.ceil(nstocks/2.0)\n",
    "cash = 10000\n",
    "stock_pos = [0]*nstocks\n",
    "starting_cash = cash \n",
    "hold_days = 5\n",
    "days = hold_days\n",
    "#transaction cost\n",
    "transac = 0.002\n",
    "#Cash money\n",
    "money_record = [0]* len(min_err_list[0][1][\"real\"].index)\n",
    "holding = False"
   ]
  },
  {
   "cell_type": "code",
   "execution_count": null,
   "metadata": {
    "id": "COS26WeUbF2Y"
   },
   "outputs": [],
   "source": [
    "idx = 0\n",
    "for i in range(0,len(min_err_list[0][1][\"real\"].index)):\n",
    "  pred = np.array([0.0]*nstocks)\n",
    "  real = np.array([0.0]*nstocks)\n",
    "  minDate = min_err_list[0][1][\"real\"].index[i]\n",
    "  for j in range(0,len(min_err_list)):\n",
    "    stockInfo = min_err_list[j][1]\n",
    "    pred[j] = stockInfo[\"pred\"].iloc[i,0]\n",
    "\n",
    "    real[j] = stockInfo[\"real\"][i]\n",
    "  # number where prediction up i\n",
    "  pred_up = (sum(pred>real))\n",
    "  if (not holding) & (pred_up >=n_decision):\n",
    "    holding = True \n",
    "    # Finding weight\n",
    "    wholeStock = pd.DataFrame(stk_data.loc[:, ('Adj Close')])\n",
    "    # We only use data before test set to find weight\n",
    "    wholeStock = wholeStock[wholeStock.index <minDate].dropna()\n",
    "    # This is the stocks we choose nstocks minimum error to trade\n",
    "    trading_stock = [i[0] for i in min_err_list]\n",
    "    trading_stock\n",
    "    chosen_stock = wholeStock[trading_stock]\n",
    "    # Require input as price of stock dataframe\n",
    "    mu = mean_historical_return(chosen_stock)\n",
    "    S = CovarianceShrinkage(chosen_stock).ledoit_wolf()\n",
    "    ef = EfficientFrontier(mu, S)\n",
    "    weights = ef.max_sharpe()\n",
    "\n",
    "    cleaned_weights = ef.clean_weights()\n",
    "    port_weight= np.array(list(cleaned_weights.values()) )\n",
    "    #print(port_weight)\n",
    "    # End of finding weight\n",
    "    # position array\n",
    "    stock_pos = (starting_cash*(1-transac))*port_weight / real\n",
    "    money_record[i] = sum(stock_pos*real)\n",
    "    #print(\"buy\")\n",
    "    #print(sum(stock_pos*real))\n",
    "    \n",
    "  elif holding:\n",
    "    # value of portfolio\n",
    "    #print(\"hold\")\n",
    "    money_record[i] = sum(stock_pos*real)\n",
    "    days = days-1\n",
    "    # if days to hold is 0, we sell\n",
    "    if days == 0 :\n",
    "      #print(\"sell and cash\")\n",
    "      holding = False\n",
    "      days = hold_days\n",
    "\n",
    "      starting_cash = sum(stock_pos*real)*(1-transac)\n",
    "      #print(starting_cash)\n",
    "      stock_pos = [0]*nstocks\n",
    "  else :\n",
    "    money_record[i] = starting_cash\n"
   ]
  },
  {
   "cell_type": "code",
   "execution_count": null,
   "metadata": {
    "colab": {
     "base_uri": "https://localhost:8080/",
     "height": 282
    },
    "id": "TvWGyyWbchQG",
    "outputId": "d7f0ae18-a9a8-4d4a-a7d8-6f309060b6c0"
   },
   "outputs": [
    {
     "data": {
      "text/plain": [
       "<matplotlib.legend.Legend at 0x7f291e3784c0>"
      ]
     },
     "execution_count": 362,
     "metadata": {},
     "output_type": "execute_result"
    },
    {
     "data": {
      "image/png": "[encoded data removed]",
      "text/plain": [
       "<Figure size 432x288 with 1 Axes>"
      ]
     },
     "metadata": {
      "needs_background": "light"
     },
     "output_type": "display_data"
    }
   ],
   "source": [
    "#plt.plot(money_record, label=\"cash\")\n",
    "profit = (np.array(money_record)-cash).tolist()\n",
    "plt.plot(profit, label=\"profit\")\n",
    "plt.legend()"
   ]
  },
  {
   "cell_type": "markdown",
   "metadata": {
    "id": "rZ2mzhOUywzo"
   },
   "source": [
    "### Rebalancing/ Benchmark portfolio\n",
    "\n",
    "A portfolio where buy at start (with no prediction) and rebalances it self to maintain a certain weight after period of time (rebalance)"
   ]
  },
  {
   "cell_type": "markdown",
   "metadata": {
    "id": "KlrztnRkzRIY"
   },
   "source": [
    "#### Equally weighted, Monthly rebalanceed"
   ]
  },
  {
   "cell_type": "code",
   "execution_count": null,
   "metadata": {
    "id": "Hj1pWyTMy4E-"
   },
   "outputs": [],
   "source": [
    "n_decision = math.ceil(nstocks/2.0)\n",
    "\n",
    "stock_pos = [0]*nstocks\n",
    "starting_cash = cash \n",
    "\n",
    "days = hold_days\n",
    "\n",
    "#Cash money\n",
    "money_record = [0]* len(min_err_list[0][1][\"real\"].index)\n",
    "holding = False\n",
    "\n",
    "\n",
    "days_to_rebal = rebal_days"
   ]
  },
  {
   "cell_type": "code",
   "execution_count": null,
   "metadata": {
    "id": "IMo0zL_dywJA"
   },
   "outputs": [],
   "source": [
    "idx = 0\n",
    "for i in range(0,len(min_err_list[0][1][\"real\"].index)):\n",
    "  pred = np.array([0.0]*nstocks)\n",
    "  real = np.array([0.0]*nstocks)\n",
    "  for j in range(0,len(min_err_list)):\n",
    "    stockInfo = min_err_list[j][1]\n",
    "    pred[j] = stockInfo[\"pred\"].iloc[i,0]\n",
    "\n",
    "    real[j] = stockInfo[\"real\"][i]\n",
    "\n",
    "  # buy everything equally on first day\n",
    "  if i == 0:\n",
    "      stock_pos = np.array([starting_cash*(1-transac)]*nstocks)/nstocks / real\n",
    "\n",
    "  days_to_rebal = days_to_rebal -1\n",
    "\n",
    "  # rebalanced day sell everything and distribute equal weight\n",
    "  if days_to_rebal == 0:\n",
    "      starting_cash = sum(stock_pos*real)*(1-transac)\n",
    "\n",
    "      stock_pos = np.array([starting_cash*(1-transac)]*nstocks)/nstocks / real\n",
    "      days_to_rebal = rebal_days\n",
    "  money_record[i] = sum(stock_pos*real)\n",
    "    \n",
    "  "
   ]
  },
  {
   "cell_type": "code",
   "execution_count": null,
   "metadata": {
    "colab": {
     "base_uri": "https://localhost:8080/",
     "height": 282
    },
    "id": "JVcP37t-1SjB",
    "outputId": "668ebbfe-bdc1-48a7-c219-5958c218ca1d"
   },
   "outputs": [
    {
     "data": {
      "text/plain": [
       "<matplotlib.legend.Legend at 0x7f291e630370>"
      ]
     },
     "execution_count": 365,
     "metadata": {},
     "output_type": "execute_result"
    },
    {
     "data": {
      "image/png": "[encoded data removed]",
      "text/plain": [
       "<Figure size 432x288 with 1 Axes>"
      ]
     },
     "metadata": {
      "needs_background": "light"
     },
     "output_type": "display_data"
    }
   ],
   "source": [
    "#plt.plot(money_record, label=\"cash\")\n",
    "profit = (np.array(money_record)-cash).tolist()\n",
    "plt.plot(profit, label=\"profit\")\n",
    "plt.legend()"
   ]
  },
  {
   "cell_type": "markdown",
   "metadata": {
    "id": "apA_IPCb3C74"
   },
   "source": [
    "#### Mean Variance Optimized, Monthly rebalanceed"
   ]
  },
  {
   "cell_type": "code",
   "execution_count": null,
   "metadata": {
    "id": "DlImvpm33DKs"
   },
   "outputs": [],
   "source": [
    "n_decision = math.ceil(nstocks/2.0)\n",
    "\n",
    "stock_pos = [0]*nstocks\n",
    "starting_cash = cash \n",
    "\n",
    "days = hold_days\n",
    "\n",
    "#Cash money\n",
    "money_record = [0]* len(min_err_list[0][1][\"real\"].index)\n",
    "holding = False\n",
    "\n",
    "\n",
    "days_to_rebal = rebal_days"
   ]
  },
  {
   "cell_type": "code",
   "execution_count": null,
   "metadata": {
    "id": "hr0NTyS83Lbx"
   },
   "outputs": [],
   "source": [
    "idx = 0\n",
    "for i in range(0,len(min_err_list[0][1][\"real\"].index)):\n",
    "  pred = np.array([0.0]*nstocks)\n",
    "  real = np.array([0.0]*nstocks)\n",
    "  for j in range(0,len(min_err_list)):\n",
    "    stockInfo = min_err_list[j][1]\n",
    "    pred[j] = stockInfo[\"pred\"].iloc[i,0]\n",
    "\n",
    "    real[j] = stockInfo[\"real\"][i]\n",
    "\n",
    "  # buy everything according to weight on first day\n",
    "  if i == 0:\n",
    "      # Finding weight\n",
    "      wholeStock = pd.DataFrame(stk_data.loc[:, ('Adj Close')])\n",
    "      # We only use data before test set to find weight\n",
    "      wholeStock = wholeStock[wholeStock.index <minDate].dropna()\n",
    "      # This is the stocks we choose nstocks minimum error to trade\n",
    "      trading_stock = [i[0] for i in min_err_list]\n",
    "      trading_stock\n",
    "      chosen_stock = wholeStock[trading_stock]\n",
    "      # Require input as price of stock dataframe\n",
    "      mu = mean_historical_return(chosen_stock)\n",
    "      S = CovarianceShrinkage(chosen_stock).ledoit_wolf()\n",
    "      ef = EfficientFrontier(mu, S)\n",
    "      weights = ef.max_sharpe()\n",
    "\n",
    "      cleaned_weights = ef.clean_weights()\n",
    "      port_weight= np.array(list(cleaned_weights.values()) )\n",
    "      #print(port_weight)\n",
    "      # End of finding weight\n",
    "\n",
    "      # position array\n",
    "      stock_pos = (starting_cash*(1-transac))*port_weight / real\n",
    "  \n",
    "  days_to_rebal = days_to_rebal -1\n",
    "\n",
    "  # rebalanced day sell everything and distribute equal weight\n",
    "  if days_to_rebal == 0:\n",
    "      starting_cash = sum(stock_pos*real)*(1-transac)\n",
    "\n",
    "      # Finding weight\n",
    "      wholeStock = pd.DataFrame(stk_data.loc[:, ('Adj Close')])\n",
    "      # We only use data before test set to find weight\n",
    "      wholeStock = wholeStock[wholeStock.index <minDate].dropna()\n",
    "      # This is the stocks we choose nstocks minimum error to trade\n",
    "      trading_stock = [i[0] for i in min_err_list]\n",
    "      trading_stock\n",
    "      chosen_stock = wholeStock[trading_stock]\n",
    "      # Require input as price of stock dataframe\n",
    "      mu = mean_historical_return(chosen_stock)\n",
    "      S = CovarianceShrinkage(chosen_stock).ledoit_wolf()\n",
    "      ef = EfficientFrontier(mu, S)\n",
    "      weights = ef.max_sharpe()\n",
    "\n",
    "      cleaned_weights = ef.clean_weights()\n",
    "      port_weight= np.array(list(cleaned_weights.values()) )\n",
    "      #print(port_weight)\n",
    "      # End of finding weight\n",
    "\n",
    "      # position array\n",
    "      stock_pos = (starting_cash*(1-transac))*port_weight / real\n",
    "      days_to_rebal = rebal_days\n",
    "  money_record[i] = sum(stock_pos*real)\n",
    "    \n",
    "  "
   ]
  },
  {
   "cell_type": "code",
   "execution_count": null,
   "metadata": {
    "colab": {
     "base_uri": "https://localhost:8080/",
     "height": 282
    },
    "id": "KxSGER5t3Dn7",
    "outputId": "fe62709d-b5e5-4040-e475-44825ba097ef"
   },
   "outputs": [
    {
     "data": {
      "text/plain": [
       "<matplotlib.legend.Legend at 0x7f291efbf910>"
      ]
     },
     "execution_count": 368,
     "metadata": {},
     "output_type": "execute_result"
    },
    {
     "data": {
      "image/png": "[encoded data removed]",
      "text/plain": [
       "<Figure size 432x288 with 1 Axes>"
      ]
     },
     "metadata": {
      "needs_background": "light"
     },
     "output_type": "display_data"
    }
   ],
   "source": [
    "#plt.plot(money_record, label=\"cash\")\n",
    "profit = (np.array(money_record)-cash).tolist()\n",
    "plt.plot(profit, label=\"profit\")\n",
    "plt.legend()"
   ]
  },
  {
   "cell_type": "markdown",
   "metadata": {
    "id": "K-ezYhdF-SES"
   },
   "source": [
    "References:\n",
    "\n",
    "Tatsat, H., Puri, S. & Lookabaugh, B. (2021) Machine learning and data science blueprints for finance : from building trading strategies to robo-advisors using Python. 1st edition. Sebastopol, California, O’Reilly."
   ]
  }
 ],
 "metadata": {
  "colab": {
   "provenance": []
  },
  "kernelspec": {
   "display_name": "Python 3 (ipykernel)",
   "language": "python",
   "name": "python3"
  },
  "language_info": {
   "codemirror_mode": {
    "name": "ipython",
    "version": 3
   },
   "file_extension": ".py",
   "mimetype": "text/x-python",
   "name": "python",
   "nbconvert_exporter": "python",
   "pygments_lexer": "ipython3",
   "version": "3.9.12"
  }
 },
 "nbformat": 4,
 "nbformat_minor": 1
}
